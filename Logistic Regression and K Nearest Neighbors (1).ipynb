{
 "cells": [
  {
   "cell_type": "code",
   "execution_count": 1,
   "metadata": {},
   "outputs": [],
   "source": [
    "import os as os \n",
    "import pandas as pd\n",
    "from sklearn.linear_model import LogisticRegression"
   ]
  },
  {
   "cell_type": "code",
   "execution_count": 2,
   "metadata": {},
   "outputs": [
    {
     "name": "stdout",
     "output_type": "stream",
     "text": [
      "D:\\BUSINESS ANALYTICS\n"
     ]
    }
   ],
   "source": [
    "import seaborn as sns\n",
    "import matplotlib.pyplot as plt\n",
    "import os as os \n",
    "os.chdir('D:\\BUSINESS ANALYTICS')\n",
    "print(os.getcwd())"
   ]
  },
  {
   "cell_type": "code",
   "execution_count": 3,
   "metadata": {},
   "outputs": [],
   "source": [
    "from sklearn.model_selection import train_test_split"
   ]
  },
  {
   "cell_type": "code",
   "execution_count": 5,
   "metadata": {},
   "outputs": [],
   "source": [
    "data_set=pd.read_csv(\"provider.csv\")"
   ]
  },
  {
   "cell_type": "code",
   "execution_count": 6,
   "metadata": {},
   "outputs": [
    {
     "data": {
      "text/html": [
       "<div>\n",
       "<style scoped>\n",
       "    .dataframe tbody tr th:only-of-type {\n",
       "        vertical-align: middle;\n",
       "    }\n",
       "\n",
       "    .dataframe tbody tr th {\n",
       "        vertical-align: top;\n",
       "    }\n",
       "\n",
       "    .dataframe thead th {\n",
       "        text-align: right;\n",
       "    }\n",
       "</style>\n",
       "<table border=\"1\" class=\"dataframe\">\n",
       "  <thead>\n",
       "    <tr style=\"text-align: right;\">\n",
       "      <th></th>\n",
       "      <th>OWNERSHIP</th>\n",
       "      <th>BEDCERT</th>\n",
       "      <th>RESTOT</th>\n",
       "      <th>INHOSP</th>\n",
       "      <th>exp_total</th>\n",
       "      <th>adj_total</th>\n",
       "      <th>TOT_PENLTY_CNT</th>\n",
       "      <th>WEIGHTED_ALL_CYCLES_SCORE</th>\n",
       "      <th>overall_rating</th>\n",
       "    </tr>\n",
       "  </thead>\n",
       "  <tbody>\n",
       "    <tr>\n",
       "      <th>0</th>\n",
       "      <td>For profit - Individual</td>\n",
       "      <td>57</td>\n",
       "      <td>56</td>\n",
       "      <td>NO</td>\n",
       "      <td>4.49390</td>\n",
       "      <td>3.92265</td>\n",
       "      <td>0</td>\n",
       "      <td>5.333</td>\n",
       "      <td>NaN</td>\n",
       "    </tr>\n",
       "    <tr>\n",
       "      <th>1</th>\n",
       "      <td>For profit - Corporation</td>\n",
       "      <td>85</td>\n",
       "      <td>74</td>\n",
       "      <td>YES</td>\n",
       "      <td>3.74823</td>\n",
       "      <td>4.93455</td>\n",
       "      <td>2</td>\n",
       "      <td>34</td>\n",
       "      <td>NaN</td>\n",
       "    </tr>\n",
       "    <tr>\n",
       "      <th>2</th>\n",
       "      <td>Government - County</td>\n",
       "      <td>50</td>\n",
       "      <td>50</td>\n",
       "      <td>YES</td>\n",
       "      <td>4.58152</td>\n",
       "      <td>3.86240</td>\n",
       "      <td>0</td>\n",
       "      <td>28.667</td>\n",
       "      <td>3.0</td>\n",
       "    </tr>\n",
       "    <tr>\n",
       "      <th>3</th>\n",
       "      <td>For profit - Corporation</td>\n",
       "      <td>92</td>\n",
       "      <td>82</td>\n",
       "      <td>NO</td>\n",
       "      <td>3.93527</td>\n",
       "      <td>4.89041</td>\n",
       "      <td>0</td>\n",
       "      <td>36</td>\n",
       "      <td>2.0</td>\n",
       "    </tr>\n",
       "    <tr>\n",
       "      <th>4</th>\n",
       "      <td>For profit - Corporation</td>\n",
       "      <td>103</td>\n",
       "      <td>88</td>\n",
       "      <td>NO</td>\n",
       "      <td>3.61362</td>\n",
       "      <td>3.77107</td>\n",
       "      <td>0</td>\n",
       "      <td>24.667</td>\n",
       "      <td>3.0</td>\n",
       "    </tr>\n",
       "  </tbody>\n",
       "</table>\n",
       "</div>"
      ],
      "text/plain": [
       "                  OWNERSHIP  BEDCERT  RESTOT INHOSP  exp_total  adj_total  \\\n",
       "0   For profit - Individual       57      56     NO    4.49390    3.92265   \n",
       "1  For profit - Corporation       85      74    YES    3.74823    4.93455   \n",
       "2       Government - County       50      50    YES    4.58152    3.86240   \n",
       "3  For profit - Corporation       92      82     NO    3.93527    4.89041   \n",
       "4  For profit - Corporation      103      88     NO    3.61362    3.77107   \n",
       "\n",
       "   TOT_PENLTY_CNT WEIGHTED_ALL_CYCLES_SCORE  overall_rating  \n",
       "0               0                     5.333             NaN  \n",
       "1               2                        34             NaN  \n",
       "2               0                    28.667             3.0  \n",
       "3               0                        36             2.0  \n",
       "4               0                    24.667             3.0  "
      ]
     },
     "execution_count": 6,
     "metadata": {},
     "output_type": "execute_result"
    }
   ],
   "source": [
    "data_set.head()"
   ]
  },
  {
   "cell_type": "code",
   "execution_count": 7,
   "metadata": {},
   "outputs": [
    {
     "data": {
      "text/plain": [
       "(15661, 9)"
      ]
     },
     "execution_count": 7,
     "metadata": {},
     "output_type": "execute_result"
    }
   ],
   "source": [
    "data_set.shape"
   ]
  },
  {
   "cell_type": "code",
   "execution_count": 8,
   "metadata": {},
   "outputs": [],
   "source": [
    "data_set=data_set.dropna(axis=0)"
   ]
  },
  {
   "cell_type": "code",
   "execution_count": 9,
   "metadata": {},
   "outputs": [
    {
     "data": {
      "text/plain": [
       "(14513, 9)"
      ]
     },
     "execution_count": 9,
     "metadata": {},
     "output_type": "execute_result"
    }
   ],
   "source": [
    "data_set.shape"
   ]
  },
  {
   "cell_type": "code",
   "execution_count": 441,
   "metadata": {},
   "outputs": [
    {
     "data": {
      "text/html": [
       "<div>\n",
       "<style scoped>\n",
       "    .dataframe tbody tr th:only-of-type {\n",
       "        vertical-align: middle;\n",
       "    }\n",
       "\n",
       "    .dataframe tbody tr th {\n",
       "        vertical-align: top;\n",
       "    }\n",
       "\n",
       "    .dataframe thead th {\n",
       "        text-align: right;\n",
       "    }\n",
       "</style>\n",
       "<table border=\"1\" class=\"dataframe\">\n",
       "  <thead>\n",
       "    <tr style=\"text-align: right;\">\n",
       "      <th></th>\n",
       "      <th>OWNERSHIP</th>\n",
       "      <th>BEDCERT</th>\n",
       "      <th>RESTOT</th>\n",
       "      <th>INHOSP</th>\n",
       "      <th>exp_total</th>\n",
       "      <th>adj_total</th>\n",
       "      <th>TOT_PENLTY_CNT</th>\n",
       "      <th>WEIGHTED_ALL_CYCLES_SCORE</th>\n",
       "      <th>overall_rating</th>\n",
       "    </tr>\n",
       "  </thead>\n",
       "  <tbody>\n",
       "    <tr>\n",
       "      <th>2</th>\n",
       "      <td>Government - County</td>\n",
       "      <td>50</td>\n",
       "      <td>50</td>\n",
       "      <td>YES</td>\n",
       "      <td>4.58152</td>\n",
       "      <td>3.86240</td>\n",
       "      <td>0</td>\n",
       "      <td>28.667</td>\n",
       "      <td>3.0</td>\n",
       "    </tr>\n",
       "    <tr>\n",
       "      <th>3</th>\n",
       "      <td>For profit - Corporation</td>\n",
       "      <td>92</td>\n",
       "      <td>82</td>\n",
       "      <td>NO</td>\n",
       "      <td>3.93527</td>\n",
       "      <td>4.89041</td>\n",
       "      <td>0</td>\n",
       "      <td>36</td>\n",
       "      <td>2.0</td>\n",
       "    </tr>\n",
       "    <tr>\n",
       "      <th>4</th>\n",
       "      <td>For profit - Corporation</td>\n",
       "      <td>103</td>\n",
       "      <td>88</td>\n",
       "      <td>NO</td>\n",
       "      <td>3.61362</td>\n",
       "      <td>3.77107</td>\n",
       "      <td>0</td>\n",
       "      <td>24.667</td>\n",
       "      <td>3.0</td>\n",
       "    </tr>\n",
       "    <tr>\n",
       "      <th>5</th>\n",
       "      <td>For profit - Corporation</td>\n",
       "      <td>149</td>\n",
       "      <td>108</td>\n",
       "      <td>NO</td>\n",
       "      <td>3.96384</td>\n",
       "      <td>4.26964</td>\n",
       "      <td>0</td>\n",
       "      <td>26.667</td>\n",
       "      <td>5.0</td>\n",
       "    </tr>\n",
       "    <tr>\n",
       "      <th>6</th>\n",
       "      <td>For profit - Corporation</td>\n",
       "      <td>124</td>\n",
       "      <td>97</td>\n",
       "      <td>NO</td>\n",
       "      <td>3.80750</td>\n",
       "      <td>3.58257</td>\n",
       "      <td>1</td>\n",
       "      <td>17.333</td>\n",
       "      <td>4.0</td>\n",
       "    </tr>\n",
       "    <tr>\n",
       "      <th>8</th>\n",
       "      <td>For profit - Corporation</td>\n",
       "      <td>170</td>\n",
       "      <td>155</td>\n",
       "      <td>NO</td>\n",
       "      <td>4.18566</td>\n",
       "      <td>3.83563</td>\n",
       "      <td>0</td>\n",
       "      <td>52</td>\n",
       "      <td>2.0</td>\n",
       "    </tr>\n",
       "    <tr>\n",
       "      <th>9</th>\n",
       "      <td>For profit - Corporation</td>\n",
       "      <td>121</td>\n",
       "      <td>117</td>\n",
       "      <td>NO</td>\n",
       "      <td>4.18356</td>\n",
       "      <td>3.63951</td>\n",
       "      <td>0</td>\n",
       "      <td>25.333</td>\n",
       "      <td>4.0</td>\n",
       "    </tr>\n",
       "    <tr>\n",
       "      <th>10</th>\n",
       "      <td>For profit - Corporation</td>\n",
       "      <td>109</td>\n",
       "      <td>78</td>\n",
       "      <td>NO</td>\n",
       "      <td>3.62920</td>\n",
       "      <td>3.46022</td>\n",
       "      <td>0</td>\n",
       "      <td>20</td>\n",
       "      <td>4.0</td>\n",
       "    </tr>\n",
       "    <tr>\n",
       "      <th>11</th>\n",
       "      <td>For profit - Corporation</td>\n",
       "      <td>222</td>\n",
       "      <td>164</td>\n",
       "      <td>NO</td>\n",
       "      <td>3.89841</td>\n",
       "      <td>3.94270</td>\n",
       "      <td>1</td>\n",
       "      <td>46</td>\n",
       "      <td>2.0</td>\n",
       "    </tr>\n",
       "    <tr>\n",
       "      <th>12</th>\n",
       "      <td>For profit - Corporation</td>\n",
       "      <td>154</td>\n",
       "      <td>122</td>\n",
       "      <td>NO</td>\n",
       "      <td>3.78126</td>\n",
       "      <td>3.61486</td>\n",
       "      <td>0</td>\n",
       "      <td>40</td>\n",
       "      <td>2.0</td>\n",
       "    </tr>\n",
       "    <tr>\n",
       "      <th>13</th>\n",
       "      <td>For profit - Corporation</td>\n",
       "      <td>78</td>\n",
       "      <td>70</td>\n",
       "      <td>NO</td>\n",
       "      <td>3.77990</td>\n",
       "      <td>4.63962</td>\n",
       "      <td>0</td>\n",
       "      <td>31.333</td>\n",
       "      <td>4.0</td>\n",
       "    </tr>\n",
       "    <tr>\n",
       "      <th>14</th>\n",
       "      <td>For profit - Corporation</td>\n",
       "      <td>129</td>\n",
       "      <td>106</td>\n",
       "      <td>NO</td>\n",
       "      <td>4.22696</td>\n",
       "      <td>4.75863</td>\n",
       "      <td>0</td>\n",
       "      <td>10</td>\n",
       "      <td>5.0</td>\n",
       "    </tr>\n",
       "    <tr>\n",
       "      <th>15</th>\n",
       "      <td>For profit - Corporation</td>\n",
       "      <td>105</td>\n",
       "      <td>59</td>\n",
       "      <td>NO</td>\n",
       "      <td>3.89483</td>\n",
       "      <td>3.83279</td>\n",
       "      <td>3</td>\n",
       "      <td>237.833</td>\n",
       "      <td>1.0</td>\n",
       "    </tr>\n",
       "    <tr>\n",
       "      <th>16</th>\n",
       "      <td>For profit - Corporation</td>\n",
       "      <td>138</td>\n",
       "      <td>99</td>\n",
       "      <td>NO</td>\n",
       "      <td>3.81892</td>\n",
       "      <td>3.61058</td>\n",
       "      <td>0</td>\n",
       "      <td>30</td>\n",
       "      <td>4.0</td>\n",
       "    </tr>\n",
       "    <tr>\n",
       "      <th>17</th>\n",
       "      <td>For profit - Corporation</td>\n",
       "      <td>125</td>\n",
       "      <td>88</td>\n",
       "      <td>NO</td>\n",
       "      <td>4.34321</td>\n",
       "      <td>4.40318</td>\n",
       "      <td>0</td>\n",
       "      <td>17.333</td>\n",
       "      <td>5.0</td>\n",
       "    </tr>\n",
       "    <tr>\n",
       "      <th>18</th>\n",
       "      <td>For profit - Corporation</td>\n",
       "      <td>102</td>\n",
       "      <td>78</td>\n",
       "      <td>NO</td>\n",
       "      <td>3.81645</td>\n",
       "      <td>3.61813</td>\n",
       "      <td>2</td>\n",
       "      <td>319.833</td>\n",
       "      <td>2.0</td>\n",
       "    </tr>\n",
       "    <tr>\n",
       "      <th>20</th>\n",
       "      <td>Non profit - Other</td>\n",
       "      <td>103</td>\n",
       "      <td>84</td>\n",
       "      <td>YES</td>\n",
       "      <td>3.65119</td>\n",
       "      <td>3.94745</td>\n",
       "      <td>1</td>\n",
       "      <td>69</td>\n",
       "      <td>1.0</td>\n",
       "    </tr>\n",
       "  </tbody>\n",
       "</table>\n",
       "</div>"
      ],
      "text/plain": [
       "                   OWNERSHIP  BEDCERT  RESTOT INHOSP  exp_total  adj_total  \\\n",
       "2        Government - County       50      50    YES    4.58152    3.86240   \n",
       "3   For profit - Corporation       92      82     NO    3.93527    4.89041   \n",
       "4   For profit - Corporation      103      88     NO    3.61362    3.77107   \n",
       "5   For profit - Corporation      149     108     NO    3.96384    4.26964   \n",
       "6   For profit - Corporation      124      97     NO    3.80750    3.58257   \n",
       "8   For profit - Corporation      170     155     NO    4.18566    3.83563   \n",
       "9   For profit - Corporation      121     117     NO    4.18356    3.63951   \n",
       "10  For profit - Corporation      109      78     NO    3.62920    3.46022   \n",
       "11  For profit - Corporation      222     164     NO    3.89841    3.94270   \n",
       "12  For profit - Corporation      154     122     NO    3.78126    3.61486   \n",
       "13  For profit - Corporation       78      70     NO    3.77990    4.63962   \n",
       "14  For profit - Corporation      129     106     NO    4.22696    4.75863   \n",
       "15  For profit - Corporation      105      59     NO    3.89483    3.83279   \n",
       "16  For profit - Corporation      138      99     NO    3.81892    3.61058   \n",
       "17  For profit - Corporation      125      88     NO    4.34321    4.40318   \n",
       "18  For profit - Corporation      102      78     NO    3.81645    3.61813   \n",
       "20        Non profit - Other      103      84    YES    3.65119    3.94745   \n",
       "\n",
       "    TOT_PENLTY_CNT WEIGHTED_ALL_CYCLES_SCORE  overall_rating  \n",
       "2                0                    28.667             3.0  \n",
       "3                0                        36             2.0  \n",
       "4                0                    24.667             3.0  \n",
       "5                0                    26.667             5.0  \n",
       "6                1                    17.333             4.0  \n",
       "8                0                        52             2.0  \n",
       "9                0                    25.333             4.0  \n",
       "10               0                        20             4.0  \n",
       "11               1                        46             2.0  \n",
       "12               0                        40             2.0  \n",
       "13               0                    31.333             4.0  \n",
       "14               0                        10             5.0  \n",
       "15               3                   237.833             1.0  \n",
       "16               0                        30             4.0  \n",
       "17               0                    17.333             5.0  \n",
       "18               2                   319.833             2.0  \n",
       "20               1                        69             1.0  "
      ]
     },
     "execution_count": 441,
     "metadata": {},
     "output_type": "execute_result"
    }
   ],
   "source": [
    "data_set.loc[0:20,]"
   ]
  },
  {
   "cell_type": "code",
   "execution_count": 10,
   "metadata": {},
   "outputs": [
    {
     "name": "stdout",
     "output_type": "stream",
     "text": [
      "OWNERSHIP                     object\n",
      "BEDCERT                        int64\n",
      "RESTOT                         int64\n",
      "INHOSP                        object\n",
      "exp_total                    float64\n",
      "adj_total                    float64\n",
      "TOT_PENLTY_CNT                 int64\n",
      "WEIGHTED_ALL_CYCLES_SCORE     object\n",
      "overall_rating               float64\n",
      "dtype: object\n"
     ]
    }
   ],
   "source": [
    "print(data_set.dtypes)\n"
   ]
  },
  {
   "cell_type": "code",
   "execution_count": 11,
   "metadata": {},
   "outputs": [],
   "source": [
    "\n",
    "data_set[\"INHOSP\"] = data_set[\"INHOSP\"].astype('category')\n",
    "data_set[\"OWNERSHIP\"] = data_set[\"OWNERSHIP\"].astype('category')\n"
   ]
  },
  {
   "cell_type": "code",
   "execution_count": 12,
   "metadata": {},
   "outputs": [
    {
     "name": "stdout",
     "output_type": "stream",
     "text": [
      "OWNERSHIP                    category\n",
      "BEDCERT                         int64\n",
      "RESTOT                          int64\n",
      "INHOSP                       category\n",
      "exp_total                     float64\n",
      "adj_total                     float64\n",
      "TOT_PENLTY_CNT                  int64\n",
      "WEIGHTED_ALL_CYCLES_SCORE      object\n",
      "overall_rating                 object\n",
      "dtype: object\n"
     ]
    }
   ],
   "source": [
    "data_set[\"overall_rating\"] = data_set[\"overall_rating\"].astype('object')\n",
    "print(data_set.dtypes)\n"
   ]
  },
  {
   "cell_type": "code",
   "execution_count": 13,
   "metadata": {
    "scrolled": true
   },
   "outputs": [
    {
     "name": "stdout",
     "output_type": "stream",
     "text": [
      "Before Coding:\n",
      "5.0    3922\n",
      "4.0    3240\n",
      "2.0    2785\n",
      "3.0    2552\n",
      "1.0    2014\n",
      "Name: overall_rating, dtype: int64\n"
     ]
    }
   ],
   "source": [
    "print('Before Coding:')\n",
    "print(pd.value_counts(data_set[\"overall_rating\"]))\n"
   ]
  },
  {
   "cell_type": "code",
   "execution_count": 14,
   "metadata": {},
   "outputs": [
    {
     "name": "stdout",
     "output_type": "stream",
     "text": [
      "\n",
      "After Coding:\n",
      "Bad     7351\n",
      "Good    7162\n",
      "Name: overall, dtype: int64\n"
     ]
    }
   ],
   "source": [
    "def coding(col, codeDict):\n",
    "    \n",
    "  colCoded=pd.Series(col, copy=True)\n",
    "  for key, value in codeDict.items():\n",
    "    colCoded.replace(key, value, inplace=True)\n",
    "  return colCoded\n",
    "\n",
    "\n",
    "data_set[\"overall\"] = coding(data_set[\"overall_rating\"], {1:'Bad',2:'Bad', 3:'Bad',4:'Good',5:'Good'})\n",
    "print('\\nAfter Coding:')\n",
    "print(pd.value_counts(data_set[\"overall\"]))"
   ]
  },
  {
   "cell_type": "code",
   "execution_count": 15,
   "metadata": {},
   "outputs": [
    {
     "data": {
      "text/plain": [
       "OWNERSHIP                    0\n",
       "BEDCERT                      0\n",
       "RESTOT                       0\n",
       "INHOSP                       0\n",
       "exp_total                    0\n",
       "adj_total                    0\n",
       "TOT_PENLTY_CNT               0\n",
       "WEIGHTED_ALL_CYCLES_SCORE    0\n",
       "overall_rating               0\n",
       "overall                      0\n",
       "dtype: int64"
      ]
     },
     "execution_count": 15,
     "metadata": {},
     "output_type": "execute_result"
    }
   ],
   "source": [
    "##data_set.head()\n",
    "data_set.isna().sum()"
   ]
  },
  {
   "cell_type": "code",
   "execution_count": 16,
   "metadata": {},
   "outputs": [
    {
     "data": {
      "text/plain": [
       "[Government - County, For profit - Corporation, Non profit - Other, Non profit - Corporation, For profit - Partnership, ..., Government - City/county, Government - State, Government - Hospital district, For profit - Limited Liability company, Government - Federal]\n",
       "Length: 13\n",
       "Categories (13, object): [Government - County, For profit - Corporation, Non profit - Other, Non profit - Corporation, ..., Government - State, Government - Hospital district, For profit - Limited Liability company, Government - Federal]"
      ]
     },
     "execution_count": 16,
     "metadata": {},
     "output_type": "execute_result"
    }
   ],
   "source": [
    "data_set[\"OWNERSHIP\"].unique()"
   ]
  },
  {
   "cell_type": "code",
   "execution_count": 17,
   "metadata": {},
   "outputs": [
    {
     "name": "stdout",
     "output_type": "stream",
     "text": [
      "2    10175\n",
      "3     3366\n",
      "1      972\n",
      "Name: OWNERSHIP, dtype: int64\n"
     ]
    }
   ],
   "source": [
    "c1=[\"overall_rating\", \"overall\"]\n",
    "##d1={'YES' :1 ,'NO': 0}\n",
    "###data_set['INHOSP']=data_set['INHOSP'].map(d1)\n",
    "data_set['INHOSP'] = data_set['INHOSP'].apply(lambda x: 0 if x=='NO' else 1)\n",
    "data_set.head()\n",
    "d1={'Government - County':1, \n",
    "'Government - City':1, \n",
    "'Government - State':1, \n",
    "'Government - Federal':1,\n",
    "'Government - Hospital district':1, \n",
    "'Government - City/county':1,\n",
    "'For profit - Individual':2,\n",
    "'For profit - Corporation':2,\n",
    "'For profit - Partnership':2,\n",
    "'For profit - Limited Liability company':2,\n",
    "'Non profit - Other':3, \n",
    "'Non profit - Corporation':3,\n",
    "'Non profit - Church related':3}\n",
    "data_set['OWNERSHIP']=data_set['OWNERSHIP'].map(d1)\n",
    "\n",
    "print(pd.value_counts(data_set[\"OWNERSHIP\"]))                                               \n",
    "##data_set.to_excel('test.xlsx', sheet_name='sheet1', index=False)"
   ]
  },
  {
   "cell_type": "code",
   "execution_count": 18,
   "metadata": {},
   "outputs": [
    {
     "data": {
      "text/plain": [
       "2    10175\n",
       "3     3366\n",
       "1      972\n",
       "Name: OWNERSHIP, dtype: int64"
      ]
     },
     "execution_count": 18,
     "metadata": {},
     "output_type": "execute_result"
    }
   ],
   "source": [
    "pd.value_counts(data_set[\"OWNERSHIP\"])"
   ]
  },
  {
   "cell_type": "code",
   "execution_count": 31,
   "metadata": {},
   "outputs": [
    {
     "data": {
      "text/plain": [
       "Bad     7351\n",
       "Good    7162\n",
       "Name: overall, dtype: int64"
      ]
     },
     "execution_count": 31,
     "metadata": {},
     "output_type": "execute_result"
    }
   ],
   "source": [
    "pd.value_counts(data_set[\"overall\"])"
   ]
  },
  {
   "cell_type": "code",
   "execution_count": 19,
   "metadata": {},
   "outputs": [
    {
     "data": {
      "text/plain": [
       "<matplotlib.axes._subplots.AxesSubplot at 0x1f6f9f56a90>"
      ]
     },
     "execution_count": 19,
     "metadata": {},
     "output_type": "execute_result"
    },
    {
     "data": {
      "image/png": "[encoded data removed]",
      "text/plain": [
       "<matplotlib.figure.Figure at 0x1f6f9e697b8>"
      ]
     },
     "metadata": {},
     "output_type": "display_data"
    }
   ],
   "source": [
    "sns.countplot(x='OWNERSHIP', data=data_set)"
   ]
  },
  {
   "cell_type": "code",
   "execution_count": 32,
   "metadata": {},
   "outputs": [
    {
     "data": {
      "text/plain": [
       "<matplotlib.axes._subplots.AxesSubplot at 0x1f6fd9754a8>"
      ]
     },
     "execution_count": 32,
     "metadata": {},
     "output_type": "execute_result"
    },
    {
     "data": {
      "image/png": "[encoded data removed]",
      "text/plain": [
       "<matplotlib.figure.Figure at 0x1f6fd98b1d0>"
      ]
     },
     "metadata": {},
     "output_type": "display_data"
    }
   ],
   "source": [
    "sns.countplot(x='overall', data=data_set)"
   ]
  },
  {
   "cell_type": "code",
   "execution_count": 451,
   "metadata": {},
   "outputs": [
    {
     "data": {
      "text/plain": [
       "OWNERSHIP                       int64\n",
       "BEDCERT                         int64\n",
       "RESTOT                          int64\n",
       "INHOSP                       category\n",
       "exp_total                     float64\n",
       "adj_total                     float64\n",
       "TOT_PENLTY_CNT                  int64\n",
       "WEIGHTED_ALL_CYCLES_SCORE      object\n",
       "overall_rating                 object\n",
       "overall                        object\n",
       "dtype: object"
      ]
     },
     "execution_count": 451,
     "metadata": {},
     "output_type": "execute_result"
    }
   ],
   "source": [
    "data_set.dtypes"
   ]
  },
  {
   "cell_type": "code",
   "execution_count": 23,
   "metadata": {},
   "outputs": [
    {
     "data": {
      "text/plain": [
       "<matplotlib.axes._subplots.AxesSubplot at 0x1f6fc103e48>"
      ]
     },
     "execution_count": 23,
     "metadata": {},
     "output_type": "execute_result"
    },
    {
     "data": {
      "image/png": "[encoded data removed]",
      "text/plain": [
       "<matplotlib.figure.Figure at 0x1f6fc0adc50>"
      ]
     },
     "metadata": {},
     "output_type": "display_data"
    }
   ],
   "source": [
    "sns.countplot(x='overall', hue='INHOSP', data=data_set)"
   ]
  },
  {
   "cell_type": "code",
   "execution_count": 24,
   "metadata": {},
   "outputs": [
    {
     "data": {
      "image/png": "[encoded data removed]",
      "text/plain": [
       "<matplotlib.figure.Figure at 0x1f6fc08deb8>"
      ]
     },
     "metadata": {},
     "output_type": "display_data"
    }
   ],
   "source": [
    "ax = sns.boxplot(x=\"overall\", y=\"BEDCERT\", data=data_set)"
   ]
  },
  {
   "cell_type": "code",
   "execution_count": 25,
   "metadata": {},
   "outputs": [
    {
     "data": {
      "image/png": "[encoded data removed]",
      "text/plain": [
       "<matplotlib.figure.Figure at 0x1f6fc242208>"
      ]
     },
     "metadata": {},
     "output_type": "display_data"
    }
   ],
   "source": [
    "ax = sns.boxplot(x=\"overall\", y=\"RESTOT\", data=data_set)"
   ]
  },
  {
   "cell_type": "code",
   "execution_count": 26,
   "metadata": {},
   "outputs": [
    {
     "data": {
      "text/plain": [
       "<matplotlib.axes._subplots.AxesSubplot at 0x1f6fc268588>"
      ]
     },
     "execution_count": 26,
     "metadata": {},
     "output_type": "execute_result"
    },
    {
     "data": {
      "image/png": "[encoded data removed]",
      "text/plain": [
       "<matplotlib.figure.Figure at 0x1f6fc164748>"
      ]
     },
     "metadata": {},
     "output_type": "display_data"
    }
   ],
   "source": [
    "sns.boxplot(x=\"overall\", y=\"exp_total\", data=data_set)"
   ]
  },
  {
   "cell_type": "code",
   "execution_count": 27,
   "metadata": {},
   "outputs": [
    {
     "data": {
      "text/plain": [
       "<matplotlib.axes._subplots.AxesSubplot at 0x1f6fc2b9240>"
      ]
     },
     "execution_count": 27,
     "metadata": {},
     "output_type": "execute_result"
    },
    {
     "data": {
      "image/png": "[encoded data removed]",
      "text/plain": [
       "<matplotlib.figure.Figure at 0x1f6fc302630>"
      ]
     },
     "metadata": {},
     "output_type": "display_data"
    }
   ],
   "source": [
    " sns.boxplot(x=\"overall\", y=\"adj_total\", data=data_set)"
   ]
  },
  {
   "cell_type": "code",
   "execution_count": 30,
   "metadata": {},
   "outputs": [
    {
     "data": {
      "text/plain": [
       "<matplotlib.axes._subplots.AxesSubplot at 0x1f6fc97b208>"
      ]
     },
     "execution_count": 30,
     "metadata": {},
     "output_type": "execute_result"
    },
    {
     "data": {
      "image/png": "[encoded data removed]",
      "text/plain": [
       "<matplotlib.figure.Figure at 0x1f6fc01f080>"
      ]
     },
     "metadata": {},
     "output_type": "display_data"
    }
   ],
   "source": [
    "data_set[\"WEIGHTED_ALL_CYCLES_SCORE\"] = data_set[\"WEIGHTED_ALL_CYCLES_SCORE\"].astype('float')\n",
    "sns.boxplot(x=\"overall\", y=\"WEIGHTED_ALL_CYCLES_SCORE\", data=data_set)"
   ]
  },
  {
   "cell_type": "code",
   "execution_count": 33,
   "metadata": {},
   "outputs": [
    {
     "data": {
      "text/plain": [
       "<matplotlib.axes._subplots.AxesSubplot at 0x1f6fd9ca4a8>"
      ]
     },
     "execution_count": 33,
     "metadata": {},
     "output_type": "execute_result"
    },
    {
     "data": {
      "image/png": "[encoded data removed]",
      "text/plain": [
       "<matplotlib.figure.Figure at 0x1f6fc965240>"
      ]
     },
     "metadata": {},
     "output_type": "display_data"
    }
   ],
   "source": [
    "\n",
    "sns.boxplot(x=\"overall\", y=\"TOT_PENLTY_CNT\", data=data_set)"
   ]
  },
  {
   "cell_type": "code",
   "execution_count": 34,
   "metadata": {},
   "outputs": [],
   "source": [
    "data_set.head()\n",
    "\n",
    "data_set[\"overall\"] = data_set[\"overall\"].astype('category')\n",
    "data_set[\"OWNERSHIP\"] = data_set[\"OWNERSHIP\"].astype('category')\n"
   ]
  },
  {
   "cell_type": "code",
   "execution_count": 35,
   "metadata": {},
   "outputs": [
    {
     "data": {
      "text/plain": [
       "OWNERSHIP                    category\n",
       "BEDCERT                         int64\n",
       "RESTOT                          int64\n",
       "INHOSP                       category\n",
       "exp_total                     float64\n",
       "adj_total                     float64\n",
       "TOT_PENLTY_CNT                  int64\n",
       "WEIGHTED_ALL_CYCLES_SCORE     float64\n",
       "overall_rating                 object\n",
       "overall                      category\n",
       "dtype: object"
      ]
     },
     "execution_count": 35,
     "metadata": {},
     "output_type": "execute_result"
    }
   ],
   "source": [
    "data_set.dtypes"
   ]
  },
  {
   "cell_type": "code",
   "execution_count": 36,
   "metadata": {},
   "outputs": [
    {
     "data": {
      "text/plain": [
       "OWNERSHIP                    category\n",
       "BEDCERT                         int64\n",
       "RESTOT                          int64\n",
       "INHOSP                       category\n",
       "exp_total                     float64\n",
       "adj_total                     float64\n",
       "TOT_PENLTY_CNT                  int64\n",
       "WEIGHTED_ALL_CYCLES_SCORE     float64\n",
       "overall_rating                 object\n",
       "overall                      category\n",
       "dtype: object"
      ]
     },
     "execution_count": 36,
     "metadata": {},
     "output_type": "execute_result"
    }
   ],
   "source": [
    "\n",
    "data_set.dtypes"
   ]
  },
  {
   "cell_type": "code",
   "execution_count": 37,
   "metadata": {},
   "outputs": [
    {
     "data": {
      "text/plain": [
       "OWNERSHIP                    0\n",
       "BEDCERT                      0\n",
       "RESTOT                       0\n",
       "INHOSP                       0\n",
       "exp_total                    0\n",
       "adj_total                    0\n",
       "TOT_PENLTY_CNT               0\n",
       "WEIGHTED_ALL_CYCLES_SCORE    0\n",
       "overall_rating               0\n",
       "overall                      0\n",
       "dtype: int64"
      ]
     },
     "execution_count": 37,
     "metadata": {},
     "output_type": "execute_result"
    }
   ],
   "source": [
    "data_set.head()\n",
    "data_set.isna().sum()\n"
   ]
  },
  {
   "cell_type": "code",
   "execution_count": 38,
   "metadata": {},
   "outputs": [
    {
     "data": {
      "text/html": [
       "<div>\n",
       "<style scoped>\n",
       "    .dataframe tbody tr th:only-of-type {\n",
       "        vertical-align: middle;\n",
       "    }\n",
       "\n",
       "    .dataframe tbody tr th {\n",
       "        vertical-align: top;\n",
       "    }\n",
       "\n",
       "    .dataframe thead th {\n",
       "        text-align: right;\n",
       "    }\n",
       "</style>\n",
       "<table border=\"1\" class=\"dataframe\">\n",
       "  <thead>\n",
       "    <tr style=\"text-align: right;\">\n",
       "      <th></th>\n",
       "      <th>OWNERSHIP</th>\n",
       "      <th>BEDCERT</th>\n",
       "      <th>RESTOT</th>\n",
       "      <th>INHOSP</th>\n",
       "      <th>exp_total</th>\n",
       "      <th>adj_total</th>\n",
       "      <th>TOT_PENLTY_CNT</th>\n",
       "      <th>WEIGHTED_ALL_CYCLES_SCORE</th>\n",
       "    </tr>\n",
       "  </thead>\n",
       "  <tbody>\n",
       "    <tr>\n",
       "      <th>2</th>\n",
       "      <td>1</td>\n",
       "      <td>50</td>\n",
       "      <td>50</td>\n",
       "      <td>1</td>\n",
       "      <td>4.58152</td>\n",
       "      <td>3.86240</td>\n",
       "      <td>0</td>\n",
       "      <td>28.667</td>\n",
       "    </tr>\n",
       "    <tr>\n",
       "      <th>3</th>\n",
       "      <td>2</td>\n",
       "      <td>92</td>\n",
       "      <td>82</td>\n",
       "      <td>0</td>\n",
       "      <td>3.93527</td>\n",
       "      <td>4.89041</td>\n",
       "      <td>0</td>\n",
       "      <td>36.000</td>\n",
       "    </tr>\n",
       "    <tr>\n",
       "      <th>4</th>\n",
       "      <td>2</td>\n",
       "      <td>103</td>\n",
       "      <td>88</td>\n",
       "      <td>0</td>\n",
       "      <td>3.61362</td>\n",
       "      <td>3.77107</td>\n",
       "      <td>0</td>\n",
       "      <td>24.667</td>\n",
       "    </tr>\n",
       "    <tr>\n",
       "      <th>5</th>\n",
       "      <td>2</td>\n",
       "      <td>149</td>\n",
       "      <td>108</td>\n",
       "      <td>0</td>\n",
       "      <td>3.96384</td>\n",
       "      <td>4.26964</td>\n",
       "      <td>0</td>\n",
       "      <td>26.667</td>\n",
       "    </tr>\n",
       "    <tr>\n",
       "      <th>6</th>\n",
       "      <td>2</td>\n",
       "      <td>124</td>\n",
       "      <td>97</td>\n",
       "      <td>0</td>\n",
       "      <td>3.80750</td>\n",
       "      <td>3.58257</td>\n",
       "      <td>1</td>\n",
       "      <td>17.333</td>\n",
       "    </tr>\n",
       "  </tbody>\n",
       "</table>\n",
       "</div>"
      ],
      "text/plain": [
       "  OWNERSHIP  BEDCERT  RESTOT INHOSP  exp_total  adj_total  TOT_PENLTY_CNT  \\\n",
       "2         1       50      50      1    4.58152    3.86240               0   \n",
       "3         2       92      82      0    3.93527    4.89041               0   \n",
       "4         2      103      88      0    3.61362    3.77107               0   \n",
       "5         2      149     108      0    3.96384    4.26964               0   \n",
       "6         2      124      97      0    3.80750    3.58257               1   \n",
       "\n",
       "   WEIGHTED_ALL_CYCLES_SCORE  \n",
       "2                     28.667  \n",
       "3                     36.000  \n",
       "4                     24.667  \n",
       "5                     26.667  \n",
       "6                     17.333  "
      ]
     },
     "execution_count": 38,
     "metadata": {},
     "output_type": "execute_result"
    }
   ],
   "source": [
    "\n",
    "X=data_set.drop(columns =[\"overall_rating\", \"overall\"])\n",
    "y=data_set[\"overall\"]\n",
    "X.head()"
   ]
  },
  {
   "cell_type": "code",
   "execution_count": 39,
   "metadata": {},
   "outputs": [
    {
     "data": {
      "text/plain": [
       "CategoricalDtype(categories=[0, 1], ordered=False)"
      ]
     },
     "execution_count": 39,
     "metadata": {},
     "output_type": "execute_result"
    }
   ],
   "source": [
    "y.head()\n",
    "X[\"OWNERSHIP\"].dtype\n",
    "X[\"INHOSP\"].dtype\n"
   ]
  },
  {
   "cell_type": "code",
   "execution_count": 458,
   "metadata": {},
   "outputs": [
    {
     "data": {
      "text/html": [
       "<div>\n",
       "<style scoped>\n",
       "    .dataframe tbody tr th:only-of-type {\n",
       "        vertical-align: middle;\n",
       "    }\n",
       "\n",
       "    .dataframe tbody tr th {\n",
       "        vertical-align: top;\n",
       "    }\n",
       "\n",
       "    .dataframe thead th {\n",
       "        text-align: right;\n",
       "    }\n",
       "</style>\n",
       "<table border=\"1\" class=\"dataframe\">\n",
       "  <thead>\n",
       "    <tr style=\"text-align: right;\">\n",
       "      <th></th>\n",
       "      <th>OWNERSHIP</th>\n",
       "      <th>BEDCERT</th>\n",
       "      <th>RESTOT</th>\n",
       "      <th>INHOSP</th>\n",
       "      <th>exp_total</th>\n",
       "      <th>adj_total</th>\n",
       "      <th>TOT_PENLTY_CNT</th>\n",
       "      <th>WEIGHTED_ALL_CYCLES_SCORE</th>\n",
       "      <th>overall_rating</th>\n",
       "      <th>overall</th>\n",
       "    </tr>\n",
       "  </thead>\n",
       "  <tbody>\n",
       "    <tr>\n",
       "      <th>2</th>\n",
       "      <td>1</td>\n",
       "      <td>50</td>\n",
       "      <td>50</td>\n",
       "      <td>1</td>\n",
       "      <td>4.58152</td>\n",
       "      <td>3.86240</td>\n",
       "      <td>0</td>\n",
       "      <td>28.667</td>\n",
       "      <td>3</td>\n",
       "      <td>Bad</td>\n",
       "    </tr>\n",
       "    <tr>\n",
       "      <th>3</th>\n",
       "      <td>2</td>\n",
       "      <td>92</td>\n",
       "      <td>82</td>\n",
       "      <td>0</td>\n",
       "      <td>3.93527</td>\n",
       "      <td>4.89041</td>\n",
       "      <td>0</td>\n",
       "      <td>36</td>\n",
       "      <td>2</td>\n",
       "      <td>Bad</td>\n",
       "    </tr>\n",
       "    <tr>\n",
       "      <th>4</th>\n",
       "      <td>2</td>\n",
       "      <td>103</td>\n",
       "      <td>88</td>\n",
       "      <td>0</td>\n",
       "      <td>3.61362</td>\n",
       "      <td>3.77107</td>\n",
       "      <td>0</td>\n",
       "      <td>24.667</td>\n",
       "      <td>3</td>\n",
       "      <td>Bad</td>\n",
       "    </tr>\n",
       "    <tr>\n",
       "      <th>5</th>\n",
       "      <td>2</td>\n",
       "      <td>149</td>\n",
       "      <td>108</td>\n",
       "      <td>0</td>\n",
       "      <td>3.96384</td>\n",
       "      <td>4.26964</td>\n",
       "      <td>0</td>\n",
       "      <td>26.667</td>\n",
       "      <td>5</td>\n",
       "      <td>Good</td>\n",
       "    </tr>\n",
       "    <tr>\n",
       "      <th>6</th>\n",
       "      <td>2</td>\n",
       "      <td>124</td>\n",
       "      <td>97</td>\n",
       "      <td>0</td>\n",
       "      <td>3.80750</td>\n",
       "      <td>3.58257</td>\n",
       "      <td>1</td>\n",
       "      <td>17.333</td>\n",
       "      <td>4</td>\n",
       "      <td>Good</td>\n",
       "    </tr>\n",
       "  </tbody>\n",
       "</table>\n",
       "</div>"
      ],
      "text/plain": [
       "  OWNERSHIP  BEDCERT  RESTOT INHOSP  exp_total  adj_total  TOT_PENLTY_CNT  \\\n",
       "2         1       50      50      1    4.58152    3.86240               0   \n",
       "3         2       92      82      0    3.93527    4.89041               0   \n",
       "4         2      103      88      0    3.61362    3.77107               0   \n",
       "5         2      149     108      0    3.96384    4.26964               0   \n",
       "6         2      124      97      0    3.80750    3.58257               1   \n",
       "\n",
       "  WEIGHTED_ALL_CYCLES_SCORE overall_rating overall  \n",
       "2                    28.667              3     Bad  \n",
       "3                        36              2     Bad  \n",
       "4                    24.667              3     Bad  \n",
       "5                    26.667              5    Good  \n",
       "6                    17.333              4    Good  "
      ]
     },
     "execution_count": 458,
     "metadata": {},
     "output_type": "execute_result"
    }
   ],
   "source": [
    "data_set.head()"
   ]
  },
  {
   "cell_type": "code",
   "execution_count": 40,
   "metadata": {},
   "outputs": [],
   "source": [
    "X_train, X_test, y_train, y_test = train_test_split(\n",
    "  X, y, test_size=0.20, random_state=42)"
   ]
  },
  {
   "cell_type": "code",
   "execution_count": 460,
   "metadata": {},
   "outputs": [
    {
     "data": {
      "text/html": [
       "<div>\n",
       "<style scoped>\n",
       "    .dataframe tbody tr th:only-of-type {\n",
       "        vertical-align: middle;\n",
       "    }\n",
       "\n",
       "    .dataframe tbody tr th {\n",
       "        vertical-align: top;\n",
       "    }\n",
       "\n",
       "    .dataframe thead th {\n",
       "        text-align: right;\n",
       "    }\n",
       "</style>\n",
       "<table border=\"1\" class=\"dataframe\">\n",
       "  <thead>\n",
       "    <tr style=\"text-align: right;\">\n",
       "      <th></th>\n",
       "      <th>OWNERSHIP</th>\n",
       "      <th>BEDCERT</th>\n",
       "      <th>RESTOT</th>\n",
       "      <th>INHOSP</th>\n",
       "      <th>exp_total</th>\n",
       "      <th>adj_total</th>\n",
       "      <th>TOT_PENLTY_CNT</th>\n",
       "      <th>WEIGHTED_ALL_CYCLES_SCORE</th>\n",
       "      <th>overall_rating</th>\n",
       "      <th>overall</th>\n",
       "    </tr>\n",
       "  </thead>\n",
       "  <tbody>\n",
       "    <tr>\n",
       "      <th>2</th>\n",
       "      <td>1</td>\n",
       "      <td>50</td>\n",
       "      <td>50</td>\n",
       "      <td>1</td>\n",
       "      <td>4.58152</td>\n",
       "      <td>3.86240</td>\n",
       "      <td>0</td>\n",
       "      <td>28.667</td>\n",
       "      <td>3</td>\n",
       "      <td>Bad</td>\n",
       "    </tr>\n",
       "    <tr>\n",
       "      <th>3</th>\n",
       "      <td>2</td>\n",
       "      <td>92</td>\n",
       "      <td>82</td>\n",
       "      <td>0</td>\n",
       "      <td>3.93527</td>\n",
       "      <td>4.89041</td>\n",
       "      <td>0</td>\n",
       "      <td>36</td>\n",
       "      <td>2</td>\n",
       "      <td>Bad</td>\n",
       "    </tr>\n",
       "    <tr>\n",
       "      <th>4</th>\n",
       "      <td>2</td>\n",
       "      <td>103</td>\n",
       "      <td>88</td>\n",
       "      <td>0</td>\n",
       "      <td>3.61362</td>\n",
       "      <td>3.77107</td>\n",
       "      <td>0</td>\n",
       "      <td>24.667</td>\n",
       "      <td>3</td>\n",
       "      <td>Bad</td>\n",
       "    </tr>\n",
       "    <tr>\n",
       "      <th>5</th>\n",
       "      <td>2</td>\n",
       "      <td>149</td>\n",
       "      <td>108</td>\n",
       "      <td>0</td>\n",
       "      <td>3.96384</td>\n",
       "      <td>4.26964</td>\n",
       "      <td>0</td>\n",
       "      <td>26.667</td>\n",
       "      <td>5</td>\n",
       "      <td>Good</td>\n",
       "    </tr>\n",
       "    <tr>\n",
       "      <th>6</th>\n",
       "      <td>2</td>\n",
       "      <td>124</td>\n",
       "      <td>97</td>\n",
       "      <td>0</td>\n",
       "      <td>3.80750</td>\n",
       "      <td>3.58257</td>\n",
       "      <td>1</td>\n",
       "      <td>17.333</td>\n",
       "      <td>4</td>\n",
       "      <td>Good</td>\n",
       "    </tr>\n",
       "  </tbody>\n",
       "</table>\n",
       "</div>"
      ],
      "text/plain": [
       "  OWNERSHIP  BEDCERT  RESTOT INHOSP  exp_total  adj_total  TOT_PENLTY_CNT  \\\n",
       "2         1       50      50      1    4.58152    3.86240               0   \n",
       "3         2       92      82      0    3.93527    4.89041               0   \n",
       "4         2      103      88      0    3.61362    3.77107               0   \n",
       "5         2      149     108      0    3.96384    4.26964               0   \n",
       "6         2      124      97      0    3.80750    3.58257               1   \n",
       "\n",
       "  WEIGHTED_ALL_CYCLES_SCORE overall_rating overall  \n",
       "2                    28.667              3     Bad  \n",
       "3                        36              2     Bad  \n",
       "4                    24.667              3     Bad  \n",
       "5                    26.667              5    Good  \n",
       "6                    17.333              4    Good  "
      ]
     },
     "execution_count": 460,
     "metadata": {},
     "output_type": "execute_result"
    }
   ],
   "source": [
    "data_set.head()"
   ]
  },
  {
   "cell_type": "code",
   "execution_count": 41,
   "metadata": {},
   "outputs": [
    {
     "data": {
      "text/plain": [
       "(11610, 8)"
      ]
     },
     "execution_count": 41,
     "metadata": {},
     "output_type": "execute_result"
    }
   ],
   "source": [
    "X_train.shape"
   ]
  },
  {
   "cell_type": "code",
   "execution_count": 42,
   "metadata": {},
   "outputs": [
    {
     "data": {
      "text/plain": [
       "(2903, 8)"
      ]
     },
     "execution_count": 42,
     "metadata": {},
     "output_type": "execute_result"
    }
   ],
   "source": [
    "X_test.shape"
   ]
  },
  {
   "cell_type": "code",
   "execution_count": 43,
   "metadata": {},
   "outputs": [
    {
     "data": {
      "text/plain": [
       "11610"
      ]
     },
     "execution_count": 43,
     "metadata": {},
     "output_type": "execute_result"
    }
   ],
   "source": [
    "len(y_train)"
   ]
  },
  {
   "cell_type": "code",
   "execution_count": 44,
   "metadata": {},
   "outputs": [
    {
     "data": {
      "text/plain": [
       "2903"
      ]
     },
     "execution_count": 44,
     "metadata": {},
     "output_type": "execute_result"
    }
   ],
   "source": [
    "len(y_test)"
   ]
  },
  {
   "cell_type": "code",
   "execution_count": 45,
   "metadata": {},
   "outputs": [
    {
     "data": {
      "text/html": [
       "<div>\n",
       "<style scoped>\n",
       "    .dataframe tbody tr th:only-of-type {\n",
       "        vertical-align: middle;\n",
       "    }\n",
       "\n",
       "    .dataframe tbody tr th {\n",
       "        vertical-align: top;\n",
       "    }\n",
       "\n",
       "    .dataframe thead th {\n",
       "        text-align: right;\n",
       "    }\n",
       "</style>\n",
       "<table border=\"1\" class=\"dataframe\">\n",
       "  <thead>\n",
       "    <tr style=\"text-align: right;\">\n",
       "      <th></th>\n",
       "      <th>OWNERSHIP</th>\n",
       "      <th>BEDCERT</th>\n",
       "      <th>RESTOT</th>\n",
       "      <th>INHOSP</th>\n",
       "      <th>exp_total</th>\n",
       "      <th>adj_total</th>\n",
       "      <th>TOT_PENLTY_CNT</th>\n",
       "      <th>WEIGHTED_ALL_CYCLES_SCORE</th>\n",
       "    </tr>\n",
       "  </thead>\n",
       "  <tbody>\n",
       "    <tr>\n",
       "      <th>5597</th>\n",
       "      <td>2</td>\n",
       "      <td>198</td>\n",
       "      <td>180</td>\n",
       "      <td>0</td>\n",
       "      <td>4.68638</td>\n",
       "      <td>3.23768</td>\n",
       "      <td>0</td>\n",
       "      <td>27.333</td>\n",
       "    </tr>\n",
       "    <tr>\n",
       "      <th>12045</th>\n",
       "      <td>2</td>\n",
       "      <td>100</td>\n",
       "      <td>96</td>\n",
       "      <td>0</td>\n",
       "      <td>4.00676</td>\n",
       "      <td>4.37464</td>\n",
       "      <td>0</td>\n",
       "      <td>1.333</td>\n",
       "    </tr>\n",
       "    <tr>\n",
       "      <th>11045</th>\n",
       "      <td>2</td>\n",
       "      <td>161</td>\n",
       "      <td>99</td>\n",
       "      <td>0</td>\n",
       "      <td>3.86261</td>\n",
       "      <td>3.84223</td>\n",
       "      <td>0</td>\n",
       "      <td>39.333</td>\n",
       "    </tr>\n",
       "    <tr>\n",
       "      <th>13282</th>\n",
       "      <td>2</td>\n",
       "      <td>180</td>\n",
       "      <td>132</td>\n",
       "      <td>0</td>\n",
       "      <td>4.18533</td>\n",
       "      <td>3.35189</td>\n",
       "      <td>0</td>\n",
       "      <td>173.000</td>\n",
       "    </tr>\n",
       "    <tr>\n",
       "      <th>12610</th>\n",
       "      <td>2</td>\n",
       "      <td>120</td>\n",
       "      <td>95</td>\n",
       "      <td>0</td>\n",
       "      <td>4.13938</td>\n",
       "      <td>3.23915</td>\n",
       "      <td>1</td>\n",
       "      <td>36.667</td>\n",
       "    </tr>\n",
       "  </tbody>\n",
       "</table>\n",
       "</div>"
      ],
      "text/plain": [
       "      OWNERSHIP  BEDCERT  RESTOT INHOSP  exp_total  adj_total  TOT_PENLTY_CNT  \\\n",
       "5597          2      198     180      0    4.68638    3.23768               0   \n",
       "12045         2      100      96      0    4.00676    4.37464               0   \n",
       "11045         2      161      99      0    3.86261    3.84223               0   \n",
       "13282         2      180     132      0    4.18533    3.35189               0   \n",
       "12610         2      120      95      0    4.13938    3.23915               1   \n",
       "\n",
       "       WEIGHTED_ALL_CYCLES_SCORE  \n",
       "5597                      27.333  \n",
       "12045                      1.333  \n",
       "11045                     39.333  \n",
       "13282                    173.000  \n",
       "12610                     36.667  "
      ]
     },
     "execution_count": 45,
     "metadata": {},
     "output_type": "execute_result"
    }
   ],
   "source": [
    "X_train.head()"
   ]
  },
  {
   "cell_type": "code",
   "execution_count": 46,
   "metadata": {},
   "outputs": [
    {
     "data": {
      "text/html": [
       "<div>\n",
       "<style scoped>\n",
       "    .dataframe tbody tr th:only-of-type {\n",
       "        vertical-align: middle;\n",
       "    }\n",
       "\n",
       "    .dataframe tbody tr th {\n",
       "        vertical-align: top;\n",
       "    }\n",
       "\n",
       "    .dataframe thead th {\n",
       "        text-align: right;\n",
       "    }\n",
       "</style>\n",
       "<table border=\"1\" class=\"dataframe\">\n",
       "  <thead>\n",
       "    <tr style=\"text-align: right;\">\n",
       "      <th></th>\n",
       "      <th>OWNERSHIP</th>\n",
       "      <th>BEDCERT</th>\n",
       "      <th>RESTOT</th>\n",
       "      <th>INHOSP</th>\n",
       "      <th>exp_total</th>\n",
       "      <th>adj_total</th>\n",
       "      <th>TOT_PENLTY_CNT</th>\n",
       "      <th>WEIGHTED_ALL_CYCLES_SCORE</th>\n",
       "    </tr>\n",
       "  </thead>\n",
       "  <tbody>\n",
       "    <tr>\n",
       "      <th>13791</th>\n",
       "      <td>3</td>\n",
       "      <td>114</td>\n",
       "      <td>93</td>\n",
       "      <td>0</td>\n",
       "      <td>4.20395</td>\n",
       "      <td>3.84154</td>\n",
       "      <td>0</td>\n",
       "      <td>30.667</td>\n",
       "    </tr>\n",
       "    <tr>\n",
       "      <th>923</th>\n",
       "      <td>2</td>\n",
       "      <td>47</td>\n",
       "      <td>44</td>\n",
       "      <td>0</td>\n",
       "      <td>3.95507</td>\n",
       "      <td>3.65860</td>\n",
       "      <td>1</td>\n",
       "      <td>75.333</td>\n",
       "    </tr>\n",
       "    <tr>\n",
       "      <th>10297</th>\n",
       "      <td>2</td>\n",
       "      <td>162</td>\n",
       "      <td>66</td>\n",
       "      <td>0</td>\n",
       "      <td>3.86972</td>\n",
       "      <td>3.30014</td>\n",
       "      <td>2</td>\n",
       "      <td>183.167</td>\n",
       "    </tr>\n",
       "    <tr>\n",
       "      <th>5269</th>\n",
       "      <td>2</td>\n",
       "      <td>67</td>\n",
       "      <td>62</td>\n",
       "      <td>0</td>\n",
       "      <td>4.30516</td>\n",
       "      <td>3.41521</td>\n",
       "      <td>2</td>\n",
       "      <td>86.667</td>\n",
       "    </tr>\n",
       "    <tr>\n",
       "      <th>2013</th>\n",
       "      <td>2</td>\n",
       "      <td>120</td>\n",
       "      <td>112</td>\n",
       "      <td>0</td>\n",
       "      <td>3.84043</td>\n",
       "      <td>4.22979</td>\n",
       "      <td>1</td>\n",
       "      <td>76.667</td>\n",
       "    </tr>\n",
       "  </tbody>\n",
       "</table>\n",
       "</div>"
      ],
      "text/plain": [
       "      OWNERSHIP  BEDCERT  RESTOT INHOSP  exp_total  adj_total  TOT_PENLTY_CNT  \\\n",
       "13791         3      114      93      0    4.20395    3.84154               0   \n",
       "923           2       47      44      0    3.95507    3.65860               1   \n",
       "10297         2      162      66      0    3.86972    3.30014               2   \n",
       "5269          2       67      62      0    4.30516    3.41521               2   \n",
       "2013          2      120     112      0    3.84043    4.22979               1   \n",
       "\n",
       "       WEIGHTED_ALL_CYCLES_SCORE  \n",
       "13791                     30.667  \n",
       "923                       75.333  \n",
       "10297                    183.167  \n",
       "5269                      86.667  \n",
       "2013                      76.667  "
      ]
     },
     "execution_count": 46,
     "metadata": {},
     "output_type": "execute_result"
    }
   ],
   "source": [
    "X_test.head()"
   ]
  },
  {
   "cell_type": "code",
   "execution_count": 467,
   "metadata": {},
   "outputs": [
    {
     "data": {
      "text/plain": [
       "5597      Bad\n",
       "12045    Good\n",
       "11045    Good\n",
       "13282     Bad\n",
       "12610     Bad\n",
       "Name: overall, dtype: category\n",
       "Categories (2, object): [Bad, Good]"
      ]
     },
     "execution_count": 467,
     "metadata": {},
     "output_type": "execute_result"
    }
   ],
   "source": [
    "y_train.head()"
   ]
  },
  {
   "cell_type": "code",
   "execution_count": 47,
   "metadata": {},
   "outputs": [
    {
     "data": {
      "text/plain": [
       "OWNERSHIP                    category\n",
       "BEDCERT                         int64\n",
       "RESTOT                          int64\n",
       "INHOSP                       category\n",
       "exp_total                     float64\n",
       "adj_total                     float64\n",
       "TOT_PENLTY_CNT                  int64\n",
       "WEIGHTED_ALL_CYCLES_SCORE     float64\n",
       "dtype: object"
      ]
     },
     "execution_count": 47,
     "metadata": {},
     "output_type": "execute_result"
    }
   ],
   "source": [
    "X_train.dtypes"
   ]
  },
  {
   "cell_type": "code",
   "execution_count": 321,
   "metadata": {},
   "outputs": [],
   "source": [
    "##l1=[\"OWNERSHIP\", \"INHOSP\"]\n",
    "##for  i in l1:\n",
    "    ##X_train[i]=X_train[i].astype('category')\n",
    "    ##X_test[i]=X_test[i].astype('category')"
   ]
  },
  {
   "cell_type": "code",
   "execution_count": 322,
   "metadata": {},
   "outputs": [
    {
     "data": {
      "text/plain": [
       "OWNERSHIP                    category\n",
       "BEDCERT                         int64\n",
       "RESTOT                          int64\n",
       "INHOSP                       category\n",
       "exp_total                     float64\n",
       "adj_total                     float64\n",
       "TOT_PENLTY_CNT                  int64\n",
       "WEIGHTED_ALL_CYCLES_SCORE      object\n",
       "dtype: object"
      ]
     },
     "execution_count": 322,
     "metadata": {},
     "output_type": "execute_result"
    }
   ],
   "source": [
    "X_train.dtypes\n",
    "\n"
   ]
  },
  {
   "cell_type": "code",
   "execution_count": 48,
   "metadata": {},
   "outputs": [
    {
     "data": {
      "text/plain": [
       "OWNERSHIP                    0\n",
       "BEDCERT                      0\n",
       "RESTOT                       0\n",
       "INHOSP                       0\n",
       "exp_total                    0\n",
       "adj_total                    0\n",
       "TOT_PENLTY_CNT               0\n",
       "WEIGHTED_ALL_CYCLES_SCORE    0\n",
       "dtype: int64"
      ]
     },
     "execution_count": 48,
     "metadata": {},
     "output_type": "execute_result"
    }
   ],
   "source": [
    "X_train.isna().sum()"
   ]
  },
  {
   "cell_type": "code",
   "execution_count": 469,
   "metadata": {},
   "outputs": [
    {
     "data": {
      "text/plain": [
       "OWNERSHIP                    category\n",
       "BEDCERT                         int64\n",
       "RESTOT                          int64\n",
       "INHOSP                       category\n",
       "exp_total                     float64\n",
       "adj_total                     float64\n",
       "TOT_PENLTY_CNT                  int64\n",
       "WEIGHTED_ALL_CYCLES_SCORE      object\n",
       "dtype: object"
      ]
     },
     "execution_count": 469,
     "metadata": {},
     "output_type": "execute_result"
    }
   ],
   "source": [
    "X_test.dtypes"
   ]
  },
  {
   "cell_type": "code",
   "execution_count": 49,
   "metadata": {},
   "outputs": [
    {
     "data": {
      "text/plain": [
       "0.8022735101619015"
      ]
     },
     "execution_count": 49,
     "metadata": {},
     "output_type": "execute_result"
    }
   ],
   "source": [
    "\n",
    "rm = LogisticRegression()\n",
    "rm.fit(X_train, y_train)\n",
    "from sklearn.metrics import accuracy_score\n",
    "y_predict = rm.predict(X_test)\n",
    "accuracy_score(y_test, y_predict)\n"
   ]
  },
  {
   "cell_type": "code",
   "execution_count": 50,
   "metadata": {},
   "outputs": [
    {
     "data": {
      "text/plain": [
       "array([[3.08878143e-01, 6.91121857e-01],\n",
       "       [8.94392908e-01, 1.05607092e-01],\n",
       "       [9.99884854e-01, 1.15145926e-04],\n",
       "       ...,\n",
       "       [4.71145495e-01, 5.28854505e-01],\n",
       "       [8.22928961e-04, 9.99177071e-01],\n",
       "       [1.54857808e-01, 8.45142192e-01]])"
      ]
     },
     "execution_count": 50,
     "metadata": {},
     "output_type": "execute_result"
    }
   ],
   "source": [
    "rm.predict_proba(X_test)"
   ]
  },
  {
   "cell_type": "code",
   "execution_count": 51,
   "metadata": {},
   "outputs": [
    {
     "name": "stdout",
     "output_type": "stream",
     "text": [
      "[[1198  222]\n",
      " [ 352 1131]]\n"
     ]
    }
   ],
   "source": [
    "from sklearn.metrics import confusion_matrix\n",
    "confusion_matrix = confusion_matrix(y_test, y_predict, labels=[\"Good\",\"Bad\"])\n",
    "print(confusion_matrix)\n"
   ]
  },
  {
   "cell_type": "code",
   "execution_count": 52,
   "metadata": {},
   "outputs": [
    {
     "name": "stdout",
     "output_type": "stream",
     "text": [
      "Confusion Matrix Predicted   Bad  Good   All\n",
      "True                       \n",
      "Bad        1131   352  1483\n",
      "Good        222  1198  1420\n",
      "All        1353  1550  2903\n"
     ]
    }
   ],
   "source": [
    "cm1 = pd.crosstab(y_test, y_predict, rownames=['True'], colnames=['Predicted'], margins=True)\n",
    "print(\"Confusion Matrix\",cm1)"
   ]
  },
  {
   "cell_type": "code",
   "execution_count": 53,
   "metadata": {},
   "outputs": [
    {
     "name": "stdout",
     "output_type": "stream",
     "text": [
      "             precision    recall  f1-score   support\n",
      "\n",
      "        Bad       0.84      0.76      0.80      1483\n",
      "       Good       0.77      0.84      0.81      1420\n",
      "\n",
      "avg / total       0.81      0.80      0.80      2903\n",
      "\n"
     ]
    }
   ],
   "source": [
    "from sklearn.metrics import classification_report\n",
    "print(classification_report(y_test, y_predict))"
   ]
  },
  {
   "cell_type": "code",
   "execution_count": 330,
   "metadata": {},
   "outputs": [
    {
     "data": {
      "text/html": [
       "<div>\n",
       "<style scoped>\n",
       "    .dataframe tbody tr th:only-of-type {\n",
       "        vertical-align: middle;\n",
       "    }\n",
       "\n",
       "    .dataframe tbody tr th {\n",
       "        vertical-align: top;\n",
       "    }\n",
       "\n",
       "    .dataframe thead th {\n",
       "        text-align: right;\n",
       "    }\n",
       "</style>\n",
       "<table border=\"1\" class=\"dataframe\">\n",
       "  <thead>\n",
       "    <tr style=\"text-align: right;\">\n",
       "      <th></th>\n",
       "      <th>OWNERSHIP</th>\n",
       "      <th>BEDCERT</th>\n",
       "      <th>RESTOT</th>\n",
       "      <th>INHOSP</th>\n",
       "      <th>exp_total</th>\n",
       "      <th>adj_total</th>\n",
       "      <th>TOT_PENLTY_CNT</th>\n",
       "      <th>WEIGHTED_ALL_CYCLES_SCORE</th>\n",
       "    </tr>\n",
       "  </thead>\n",
       "  <tbody>\n",
       "    <tr>\n",
       "      <th>5597</th>\n",
       "      <td>2</td>\n",
       "      <td>198</td>\n",
       "      <td>180</td>\n",
       "      <td>0</td>\n",
       "      <td>4.68638</td>\n",
       "      <td>3.23768</td>\n",
       "      <td>0</td>\n",
       "      <td>27.333</td>\n",
       "    </tr>\n",
       "    <tr>\n",
       "      <th>12045</th>\n",
       "      <td>2</td>\n",
       "      <td>100</td>\n",
       "      <td>96</td>\n",
       "      <td>0</td>\n",
       "      <td>4.00676</td>\n",
       "      <td>4.37464</td>\n",
       "      <td>0</td>\n",
       "      <td>1.333</td>\n",
       "    </tr>\n",
       "    <tr>\n",
       "      <th>11045</th>\n",
       "      <td>2</td>\n",
       "      <td>161</td>\n",
       "      <td>99</td>\n",
       "      <td>0</td>\n",
       "      <td>3.86261</td>\n",
       "      <td>3.84223</td>\n",
       "      <td>0</td>\n",
       "      <td>39.333</td>\n",
       "    </tr>\n",
       "    <tr>\n",
       "      <th>13282</th>\n",
       "      <td>2</td>\n",
       "      <td>180</td>\n",
       "      <td>132</td>\n",
       "      <td>0</td>\n",
       "      <td>4.18533</td>\n",
       "      <td>3.35189</td>\n",
       "      <td>0</td>\n",
       "      <td>173</td>\n",
       "    </tr>\n",
       "    <tr>\n",
       "      <th>12610</th>\n",
       "      <td>2</td>\n",
       "      <td>120</td>\n",
       "      <td>95</td>\n",
       "      <td>0</td>\n",
       "      <td>4.13938</td>\n",
       "      <td>3.23915</td>\n",
       "      <td>1</td>\n",
       "      <td>36.667</td>\n",
       "    </tr>\n",
       "  </tbody>\n",
       "</table>\n",
       "</div>"
      ],
      "text/plain": [
       "      OWNERSHIP  BEDCERT  RESTOT INHOSP  exp_total  adj_total  TOT_PENLTY_CNT  \\\n",
       "5597          2      198     180      0    4.68638    3.23768               0   \n",
       "12045         2      100      96      0    4.00676    4.37464               0   \n",
       "11045         2      161      99      0    3.86261    3.84223               0   \n",
       "13282         2      180     132      0    4.18533    3.35189               0   \n",
       "12610         2      120      95      0    4.13938    3.23915               1   \n",
       "\n",
       "      WEIGHTED_ALL_CYCLES_SCORE  \n",
       "5597                     27.333  \n",
       "12045                     1.333  \n",
       "11045                    39.333  \n",
       "13282                       173  \n",
       "12610                    36.667  "
      ]
     },
     "execution_count": 330,
     "metadata": {},
     "output_type": "execute_result"
    }
   ],
   "source": [
    "X_train.head()"
   ]
  },
  {
   "cell_type": "code",
   "execution_count": 55,
   "metadata": {},
   "outputs": [],
   "source": [
    "from sklearn.neighbors import KNeighborsClassifier\n",
    "##neigh = KNeighborsClassifier(n_neighbors=3)\n",
    "##neigh.fit(X_train, y_train)\n"
   ]
  },
  {
   "cell_type": "code",
   "execution_count": 476,
   "metadata": {},
   "outputs": [],
   "source": [
    "##y_predict = neigh.predict(X_test)\n",
    "##accuracy_score(y_test, y_predict)"
   ]
  },
  {
   "cell_type": "code",
   "execution_count": 54,
   "metadata": {},
   "outputs": [
    {
     "name": "stderr",
     "output_type": "stream",
     "text": [
      "C:\\Users\\bhargavinagaraj\\Anaconda_new\\lib\\site-packages\\sklearn\\cross_validation.py:41: DeprecationWarning: This module was deprecated in version 0.18 in favor of the model_selection module into which all the refactored classes and functions are moved. Also note that the interface of the new CV iterators are different from that of this module. This module will be removed in 0.20.\n",
      "  \"This module will be removed in 0.20.\", DeprecationWarning)\n",
      "C:\\Users\\bhargavinagaraj\\Anaconda_new\\lib\\site-packages\\sklearn\\grid_search.py:42: DeprecationWarning: This module was deprecated in version 0.18 in favor of the model_selection module into which all the refactored classes and functions are moved. This module will be removed in 0.20.\n",
      "  DeprecationWarning)\n"
     ]
    }
   ],
   "source": [
    "from sklearn.grid_search import GridSearchCV"
   ]
  },
  {
   "cell_type": "code",
   "execution_count": 56,
   "metadata": {},
   "outputs": [
    {
     "name": "stdout",
     "output_type": "stream",
     "text": [
      "[1, 2, 3, 4, 5, 6, 7, 8, 9, 10, 11, 12, 13, 14, 15, 16, 17, 18, 19, 20, 21, 22, 23, 24, 25, 26, 27, 28, 29, 30]\n"
     ]
    }
   ],
   "source": [
    "k_range = list(range(1, 31))\n",
    "print(k_range)"
   ]
  },
  {
   "cell_type": "code",
   "execution_count": 57,
   "metadata": {},
   "outputs": [
    {
     "name": "stdout",
     "output_type": "stream",
     "text": [
      "{'n_neighbors': [1, 2, 3, 4, 5, 6, 7, 8, 9, 10, 11, 12, 13, 14, 15, 16, 17, 18, 19, 20, 21, 22, 23, 24, 25, 26, 27, 28, 29, 30]}\n"
     ]
    }
   ],
   "source": [
    "param_grid = dict(n_neighbors=k_range)\n",
    "print(param_grid)"
   ]
  },
  {
   "cell_type": "code",
   "execution_count": 58,
   "metadata": {},
   "outputs": [],
   "source": [
    "import sklearn\n",
    "knn = sklearn.neighbors.KNeighborsClassifier()\n",
    "grid = GridSearchCV(knn, param_grid, cv=10, scoring='accuracy')\n"
   ]
  },
  {
   "cell_type": "code",
   "execution_count": 59,
   "metadata": {},
   "outputs": [],
   "source": [
    "from sklearn.preprocessing import scale\n",
    "\n",
    "X_data =data_set.loc[:,]"
   ]
  },
  {
   "cell_type": "code",
   "execution_count": 60,
   "metadata": {},
   "outputs": [
    {
     "data": {
      "text/html": [
       "<div>\n",
       "<style scoped>\n",
       "    .dataframe tbody tr th:only-of-type {\n",
       "        vertical-align: middle;\n",
       "    }\n",
       "\n",
       "    .dataframe tbody tr th {\n",
       "        vertical-align: top;\n",
       "    }\n",
       "\n",
       "    .dataframe thead th {\n",
       "        text-align: right;\n",
       "    }\n",
       "</style>\n",
       "<table border=\"1\" class=\"dataframe\">\n",
       "  <thead>\n",
       "    <tr style=\"text-align: right;\">\n",
       "      <th></th>\n",
       "      <th>OWNERSHIP</th>\n",
       "      <th>BEDCERT</th>\n",
       "      <th>RESTOT</th>\n",
       "      <th>INHOSP</th>\n",
       "      <th>exp_total</th>\n",
       "      <th>adj_total</th>\n",
       "      <th>TOT_PENLTY_CNT</th>\n",
       "      <th>WEIGHTED_ALL_CYCLES_SCORE</th>\n",
       "      <th>overall_rating</th>\n",
       "      <th>overall</th>\n",
       "    </tr>\n",
       "  </thead>\n",
       "  <tbody>\n",
       "    <tr>\n",
       "      <th>2</th>\n",
       "      <td>1</td>\n",
       "      <td>50</td>\n",
       "      <td>50</td>\n",
       "      <td>1</td>\n",
       "      <td>4.58152</td>\n",
       "      <td>3.86240</td>\n",
       "      <td>0</td>\n",
       "      <td>28.667</td>\n",
       "      <td>3</td>\n",
       "      <td>Bad</td>\n",
       "    </tr>\n",
       "    <tr>\n",
       "      <th>3</th>\n",
       "      <td>2</td>\n",
       "      <td>92</td>\n",
       "      <td>82</td>\n",
       "      <td>0</td>\n",
       "      <td>3.93527</td>\n",
       "      <td>4.89041</td>\n",
       "      <td>0</td>\n",
       "      <td>36.000</td>\n",
       "      <td>2</td>\n",
       "      <td>Bad</td>\n",
       "    </tr>\n",
       "    <tr>\n",
       "      <th>4</th>\n",
       "      <td>2</td>\n",
       "      <td>103</td>\n",
       "      <td>88</td>\n",
       "      <td>0</td>\n",
       "      <td>3.61362</td>\n",
       "      <td>3.77107</td>\n",
       "      <td>0</td>\n",
       "      <td>24.667</td>\n",
       "      <td>3</td>\n",
       "      <td>Bad</td>\n",
       "    </tr>\n",
       "    <tr>\n",
       "      <th>5</th>\n",
       "      <td>2</td>\n",
       "      <td>149</td>\n",
       "      <td>108</td>\n",
       "      <td>0</td>\n",
       "      <td>3.96384</td>\n",
       "      <td>4.26964</td>\n",
       "      <td>0</td>\n",
       "      <td>26.667</td>\n",
       "      <td>5</td>\n",
       "      <td>Good</td>\n",
       "    </tr>\n",
       "    <tr>\n",
       "      <th>6</th>\n",
       "      <td>2</td>\n",
       "      <td>124</td>\n",
       "      <td>97</td>\n",
       "      <td>0</td>\n",
       "      <td>3.80750</td>\n",
       "      <td>3.58257</td>\n",
       "      <td>1</td>\n",
       "      <td>17.333</td>\n",
       "      <td>4</td>\n",
       "      <td>Good</td>\n",
       "    </tr>\n",
       "  </tbody>\n",
       "</table>\n",
       "</div>"
      ],
      "text/plain": [
       "  OWNERSHIP  BEDCERT  RESTOT INHOSP  exp_total  adj_total  TOT_PENLTY_CNT  \\\n",
       "2         1       50      50      1    4.58152    3.86240               0   \n",
       "3         2       92      82      0    3.93527    4.89041               0   \n",
       "4         2      103      88      0    3.61362    3.77107               0   \n",
       "5         2      149     108      0    3.96384    4.26964               0   \n",
       "6         2      124      97      0    3.80750    3.58257               1   \n",
       "\n",
       "   WEIGHTED_ALL_CYCLES_SCORE overall_rating overall  \n",
       "2                     28.667              3     Bad  \n",
       "3                     36.000              2     Bad  \n",
       "4                     24.667              3     Bad  \n",
       "5                     26.667              5    Good  \n",
       "6                     17.333              4    Good  "
      ]
     },
     "execution_count": 60,
     "metadata": {},
     "output_type": "execute_result"
    }
   ],
   "source": [
    "X_data.head()"
   ]
  },
  {
   "cell_type": "code",
   "execution_count": 61,
   "metadata": {},
   "outputs": [
    {
     "data": {
      "text/plain": [
       "OWNERSHIP                    0\n",
       "BEDCERT                      0\n",
       "RESTOT                       0\n",
       "INHOSP                       0\n",
       "exp_total                    0\n",
       "adj_total                    0\n",
       "TOT_PENLTY_CNT               0\n",
       "WEIGHTED_ALL_CYCLES_SCORE    0\n",
       "overall_rating               0\n",
       "overall                      0\n",
       "dtype: int64"
      ]
     },
     "execution_count": 61,
     "metadata": {},
     "output_type": "execute_result"
    }
   ],
   "source": [
    "X_data.isna().sum()"
   ]
  },
  {
   "cell_type": "code",
   "execution_count": 62,
   "metadata": {},
   "outputs": [
    {
     "data": {
      "text/html": [
       "<div>\n",
       "<style scoped>\n",
       "    .dataframe tbody tr th:only-of-type {\n",
       "        vertical-align: middle;\n",
       "    }\n",
       "\n",
       "    .dataframe tbody tr th {\n",
       "        vertical-align: top;\n",
       "    }\n",
       "\n",
       "    .dataframe thead th {\n",
       "        text-align: right;\n",
       "    }\n",
       "</style>\n",
       "<table border=\"1\" class=\"dataframe\">\n",
       "  <thead>\n",
       "    <tr style=\"text-align: right;\">\n",
       "      <th></th>\n",
       "      <th>OWNERSHIP</th>\n",
       "      <th>BEDCERT</th>\n",
       "      <th>RESTOT</th>\n",
       "      <th>INHOSP</th>\n",
       "      <th>exp_total</th>\n",
       "      <th>adj_total</th>\n",
       "      <th>TOT_PENLTY_CNT</th>\n",
       "      <th>WEIGHTED_ALL_CYCLES_SCORE</th>\n",
       "      <th>overall_rating</th>\n",
       "      <th>overall</th>\n",
       "    </tr>\n",
       "  </thead>\n",
       "  <tbody>\n",
       "    <tr>\n",
       "      <th>2</th>\n",
       "      <td>1</td>\n",
       "      <td>50</td>\n",
       "      <td>50</td>\n",
       "      <td>1</td>\n",
       "      <td>4.58152</td>\n",
       "      <td>3.86240</td>\n",
       "      <td>0</td>\n",
       "      <td>28.667</td>\n",
       "      <td>3</td>\n",
       "      <td>Bad</td>\n",
       "    </tr>\n",
       "    <tr>\n",
       "      <th>3</th>\n",
       "      <td>2</td>\n",
       "      <td>92</td>\n",
       "      <td>82</td>\n",
       "      <td>0</td>\n",
       "      <td>3.93527</td>\n",
       "      <td>4.89041</td>\n",
       "      <td>0</td>\n",
       "      <td>36.000</td>\n",
       "      <td>2</td>\n",
       "      <td>Bad</td>\n",
       "    </tr>\n",
       "    <tr>\n",
       "      <th>4</th>\n",
       "      <td>2</td>\n",
       "      <td>103</td>\n",
       "      <td>88</td>\n",
       "      <td>0</td>\n",
       "      <td>3.61362</td>\n",
       "      <td>3.77107</td>\n",
       "      <td>0</td>\n",
       "      <td>24.667</td>\n",
       "      <td>3</td>\n",
       "      <td>Bad</td>\n",
       "    </tr>\n",
       "    <tr>\n",
       "      <th>5</th>\n",
       "      <td>2</td>\n",
       "      <td>149</td>\n",
       "      <td>108</td>\n",
       "      <td>0</td>\n",
       "      <td>3.96384</td>\n",
       "      <td>4.26964</td>\n",
       "      <td>0</td>\n",
       "      <td>26.667</td>\n",
       "      <td>5</td>\n",
       "      <td>Good</td>\n",
       "    </tr>\n",
       "    <tr>\n",
       "      <th>6</th>\n",
       "      <td>2</td>\n",
       "      <td>124</td>\n",
       "      <td>97</td>\n",
       "      <td>0</td>\n",
       "      <td>3.80750</td>\n",
       "      <td>3.58257</td>\n",
       "      <td>1</td>\n",
       "      <td>17.333</td>\n",
       "      <td>4</td>\n",
       "      <td>Good</td>\n",
       "    </tr>\n",
       "  </tbody>\n",
       "</table>\n",
       "</div>"
      ],
      "text/plain": [
       "  OWNERSHIP  BEDCERT  RESTOT INHOSP  exp_total  adj_total  TOT_PENLTY_CNT  \\\n",
       "2         1       50      50      1    4.58152    3.86240               0   \n",
       "3         2       92      82      0    3.93527    4.89041               0   \n",
       "4         2      103      88      0    3.61362    3.77107               0   \n",
       "5         2      149     108      0    3.96384    4.26964               0   \n",
       "6         2      124      97      0    3.80750    3.58257               1   \n",
       "\n",
       "   WEIGHTED_ALL_CYCLES_SCORE overall_rating overall  \n",
       "2                     28.667              3     Bad  \n",
       "3                     36.000              2     Bad  \n",
       "4                     24.667              3     Bad  \n",
       "5                     26.667              5    Good  \n",
       "6                     17.333              4    Good  "
      ]
     },
     "execution_count": 62,
     "metadata": {},
     "output_type": "execute_result"
    }
   ],
   "source": [
    "data_set.head()"
   ]
  },
  {
   "cell_type": "code",
   "execution_count": 63,
   "metadata": {},
   "outputs": [],
   "source": [
    "X_data=X_data.drop( columns =\"overall_rating\")\n",
    "X_data =X_data.drop(columns =\"overall\")\n",
    "X_data =X_data.drop(columns =\"OWNERSHIP\")\n",
    "X_data =X_data.drop(columns =\"INHOSP\")"
   ]
  },
  {
   "cell_type": "code",
   "execution_count": 64,
   "metadata": {},
   "outputs": [],
   "source": [
    "X_data.head()\n",
    "Xs= scale(X_data)"
   ]
  },
  {
   "cell_type": "code",
   "execution_count": 65,
   "metadata": {},
   "outputs": [],
   "source": [
    "Xs=pd.DataFrame(Xs)"
   ]
  },
  {
   "cell_type": "code",
   "execution_count": 66,
   "metadata": {
    "scrolled": true
   },
   "outputs": [
    {
     "data": {
      "text/html": [
       "<div>\n",
       "<style scoped>\n",
       "    .dataframe tbody tr th:only-of-type {\n",
       "        vertical-align: middle;\n",
       "    }\n",
       "\n",
       "    .dataframe tbody tr th {\n",
       "        vertical-align: top;\n",
       "    }\n",
       "\n",
       "    .dataframe thead th {\n",
       "        text-align: right;\n",
       "    }\n",
       "</style>\n",
       "<table border=\"1\" class=\"dataframe\">\n",
       "  <thead>\n",
       "    <tr style=\"text-align: right;\">\n",
       "      <th></th>\n",
       "      <th>0</th>\n",
       "      <th>1</th>\n",
       "      <th>2</th>\n",
       "      <th>3</th>\n",
       "      <th>4</th>\n",
       "      <th>5</th>\n",
       "    </tr>\n",
       "  </thead>\n",
       "  <tbody>\n",
       "    <tr>\n",
       "      <th>0</th>\n",
       "      <td>-0.954424</td>\n",
       "      <td>-0.704205</td>\n",
       "      <td>0.994058</td>\n",
       "      <td>-0.143034</td>\n",
       "      <td>-0.517991</td>\n",
       "      <td>-0.424788</td>\n",
       "    </tr>\n",
       "    <tr>\n",
       "      <th>1</th>\n",
       "      <td>-0.258359</td>\n",
       "      <td>-0.099394</td>\n",
       "      <td>-0.594507</td>\n",
       "      <td>0.977261</td>\n",
       "      <td>-0.517991</td>\n",
       "      <td>-0.327962</td>\n",
       "    </tr>\n",
       "    <tr>\n",
       "      <th>2</th>\n",
       "      <td>-0.076057</td>\n",
       "      <td>0.014008</td>\n",
       "      <td>-1.385164</td>\n",
       "      <td>-0.242563</td>\n",
       "      <td>-0.517991</td>\n",
       "      <td>-0.477604</td>\n",
       "    </tr>\n",
       "    <tr>\n",
       "      <th>3</th>\n",
       "      <td>0.686300</td>\n",
       "      <td>0.392014</td>\n",
       "      <td>-0.524278</td>\n",
       "      <td>0.300764</td>\n",
       "      <td>-0.517991</td>\n",
       "      <td>-0.451196</td>\n",
       "    </tr>\n",
       "    <tr>\n",
       "      <th>4</th>\n",
       "      <td>0.271976</td>\n",
       "      <td>0.184110</td>\n",
       "      <td>-0.908582</td>\n",
       "      <td>-0.447985</td>\n",
       "      <td>0.583329</td>\n",
       "      <td>-0.574443</td>\n",
       "    </tr>\n",
       "  </tbody>\n",
       "</table>\n",
       "</div>"
      ],
      "text/plain": [
       "          0         1         2         3         4         5\n",
       "0 -0.954424 -0.704205  0.994058 -0.143034 -0.517991 -0.424788\n",
       "1 -0.258359 -0.099394 -0.594507  0.977261 -0.517991 -0.327962\n",
       "2 -0.076057  0.014008 -1.385164 -0.242563 -0.517991 -0.477604\n",
       "3  0.686300  0.392014 -0.524278  0.300764 -0.517991 -0.451196\n",
       "4  0.271976  0.184110 -0.908582 -0.447985  0.583329 -0.574443"
      ]
     },
     "execution_count": 66,
     "metadata": {},
     "output_type": "execute_result"
    }
   ],
   "source": [
    "Xs.head()"
   ]
  },
  {
   "cell_type": "code",
   "execution_count": 67,
   "metadata": {},
   "outputs": [],
   "source": [
    "df1=pd.DataFrame(data_set.loc[:,\"OWNERSHIP\"])\n",
    "df2=pd.DataFrame(data_set.loc[:,\"INHOSP\"])"
   ]
  },
  {
   "cell_type": "code",
   "execution_count": 68,
   "metadata": {},
   "outputs": [],
   "source": [
    "df1 =df1.reset_index(drop=True)\n",
    "df2=df2.reset_index(drop=True)"
   ]
  },
  {
   "cell_type": "code",
   "execution_count": 69,
   "metadata": {},
   "outputs": [
    {
     "name": "stdout",
     "output_type": "stream",
     "text": [
      "  OWNERSHIP\n",
      "0         1\n",
      "1         2\n",
      "2         2\n",
      "3         2\n",
      "4         2\n"
     ]
    }
   ],
   "source": [
    "print(df1.head())"
   ]
  },
  {
   "cell_type": "code",
   "execution_count": 70,
   "metadata": {},
   "outputs": [],
   "source": [
    "Xs[\"OWNERSHIP\"]= df1.loc[:,]\n",
    "Xs[\"INHOSP\"]=df2.loc[:,]"
   ]
  },
  {
   "cell_type": "code",
   "execution_count": 71,
   "metadata": {},
   "outputs": [
    {
     "data": {
      "text/html": [
       "<div>\n",
       "<style scoped>\n",
       "    .dataframe tbody tr th:only-of-type {\n",
       "        vertical-align: middle;\n",
       "    }\n",
       "\n",
       "    .dataframe tbody tr th {\n",
       "        vertical-align: top;\n",
       "    }\n",
       "\n",
       "    .dataframe thead th {\n",
       "        text-align: right;\n",
       "    }\n",
       "</style>\n",
       "<table border=\"1\" class=\"dataframe\">\n",
       "  <thead>\n",
       "    <tr style=\"text-align: right;\">\n",
       "      <th></th>\n",
       "      <th>0</th>\n",
       "      <th>1</th>\n",
       "      <th>2</th>\n",
       "      <th>3</th>\n",
       "      <th>4</th>\n",
       "      <th>5</th>\n",
       "      <th>OWNERSHIP</th>\n",
       "      <th>INHOSP</th>\n",
       "    </tr>\n",
       "  </thead>\n",
       "  <tbody>\n",
       "    <tr>\n",
       "      <th>0</th>\n",
       "      <td>-0.954424</td>\n",
       "      <td>-0.704205</td>\n",
       "      <td>0.994058</td>\n",
       "      <td>-0.143034</td>\n",
       "      <td>-0.517991</td>\n",
       "      <td>-0.424788</td>\n",
       "      <td>1</td>\n",
       "      <td>1</td>\n",
       "    </tr>\n",
       "    <tr>\n",
       "      <th>1</th>\n",
       "      <td>-0.258359</td>\n",
       "      <td>-0.099394</td>\n",
       "      <td>-0.594507</td>\n",
       "      <td>0.977261</td>\n",
       "      <td>-0.517991</td>\n",
       "      <td>-0.327962</td>\n",
       "      <td>2</td>\n",
       "      <td>0</td>\n",
       "    </tr>\n",
       "    <tr>\n",
       "      <th>2</th>\n",
       "      <td>-0.076057</td>\n",
       "      <td>0.014008</td>\n",
       "      <td>-1.385164</td>\n",
       "      <td>-0.242563</td>\n",
       "      <td>-0.517991</td>\n",
       "      <td>-0.477604</td>\n",
       "      <td>2</td>\n",
       "      <td>0</td>\n",
       "    </tr>\n",
       "    <tr>\n",
       "      <th>3</th>\n",
       "      <td>0.686300</td>\n",
       "      <td>0.392014</td>\n",
       "      <td>-0.524278</td>\n",
       "      <td>0.300764</td>\n",
       "      <td>-0.517991</td>\n",
       "      <td>-0.451196</td>\n",
       "      <td>2</td>\n",
       "      <td>0</td>\n",
       "    </tr>\n",
       "    <tr>\n",
       "      <th>4</th>\n",
       "      <td>0.271976</td>\n",
       "      <td>0.184110</td>\n",
       "      <td>-0.908582</td>\n",
       "      <td>-0.447985</td>\n",
       "      <td>0.583329</td>\n",
       "      <td>-0.574443</td>\n",
       "      <td>2</td>\n",
       "      <td>0</td>\n",
       "    </tr>\n",
       "  </tbody>\n",
       "</table>\n",
       "</div>"
      ],
      "text/plain": [
       "          0         1         2         3         4         5  OWNERSHIP  \\\n",
       "0 -0.954424 -0.704205  0.994058 -0.143034 -0.517991 -0.424788          1   \n",
       "1 -0.258359 -0.099394 -0.594507  0.977261 -0.517991 -0.327962          2   \n",
       "2 -0.076057  0.014008 -1.385164 -0.242563 -0.517991 -0.477604          2   \n",
       "3  0.686300  0.392014 -0.524278  0.300764 -0.517991 -0.451196          2   \n",
       "4  0.271976  0.184110 -0.908582 -0.447985  0.583329 -0.574443          2   \n",
       "\n",
       "   INHOSP  \n",
       "0       1  \n",
       "1       0  \n",
       "2       0  \n",
       "3       0  \n",
       "4       0  "
      ]
     },
     "execution_count": 71,
     "metadata": {},
     "output_type": "execute_result"
    }
   ],
   "source": [
    "Xs.head()"
   ]
  },
  {
   "cell_type": "code",
   "execution_count": 72,
   "metadata": {},
   "outputs": [
    {
     "data": {
      "text/html": [
       "<div>\n",
       "<style scoped>\n",
       "    .dataframe tbody tr th:only-of-type {\n",
       "        vertical-align: middle;\n",
       "    }\n",
       "\n",
       "    .dataframe tbody tr th {\n",
       "        vertical-align: top;\n",
       "    }\n",
       "\n",
       "    .dataframe thead th {\n",
       "        text-align: right;\n",
       "    }\n",
       "</style>\n",
       "<table border=\"1\" class=\"dataframe\">\n",
       "  <thead>\n",
       "    <tr style=\"text-align: right;\">\n",
       "      <th></th>\n",
       "      <th>OWNERSHIP</th>\n",
       "    </tr>\n",
       "  </thead>\n",
       "  <tbody>\n",
       "    <tr>\n",
       "      <th>0</th>\n",
       "      <td>1</td>\n",
       "    </tr>\n",
       "    <tr>\n",
       "      <th>1</th>\n",
       "      <td>2</td>\n",
       "    </tr>\n",
       "    <tr>\n",
       "      <th>2</th>\n",
       "      <td>2</td>\n",
       "    </tr>\n",
       "    <tr>\n",
       "      <th>3</th>\n",
       "      <td>2</td>\n",
       "    </tr>\n",
       "    <tr>\n",
       "      <th>4</th>\n",
       "      <td>2</td>\n",
       "    </tr>\n",
       "  </tbody>\n",
       "</table>\n",
       "</div>"
      ],
      "text/plain": [
       "  OWNERSHIP\n",
       "0         1\n",
       "1         2\n",
       "2         2\n",
       "3         2\n",
       "4         2"
      ]
     },
     "execution_count": 72,
     "metadata": {},
     "output_type": "execute_result"
    }
   ],
   "source": [
    "df1.head()"
   ]
  },
  {
   "cell_type": "code",
   "execution_count": 500,
   "metadata": {},
   "outputs": [
    {
     "data": {
      "text/plain": [
       "0            0\n",
       "1            0\n",
       "2            0\n",
       "3            0\n",
       "4            0\n",
       "5            0\n",
       "OWNERSHIP    0\n",
       "INHOSP       0\n",
       "dtype: int64"
      ]
     },
     "execution_count": 500,
     "metadata": {},
     "output_type": "execute_result"
    }
   ],
   "source": [
    "Xs.isna().sum()"
   ]
  },
  {
   "cell_type": "code",
   "execution_count": 73,
   "metadata": {},
   "outputs": [
    {
     "data": {
      "text/plain": [
       "GridSearchCV(cv=10, error_score='raise',\n",
       "       estimator=KNeighborsClassifier(algorithm='auto', leaf_size=30, metric='minkowski',\n",
       "           metric_params=None, n_jobs=1, n_neighbors=5, p=2,\n",
       "           weights='uniform'),\n",
       "       fit_params={}, iid=True, n_jobs=1,\n",
       "       param_grid={'n_neighbors': [1, 2, 3, 4, 5, 6, 7, 8, 9, 10, 11, 12, 13, 14, 15, 16, 17, 18, 19, 20, 21, 22, 23, 24, 25, 26, 27, 28, 29, 30]},\n",
       "       pre_dispatch='2*n_jobs', refit=True, scoring='accuracy', verbose=0)"
      ]
     },
     "execution_count": 73,
     "metadata": {},
     "output_type": "execute_result"
    }
   ],
   "source": [
    "\n",
    "\n",
    "\n",
    "grid.fit(Xs, y)"
   ]
  },
  {
   "cell_type": "code",
   "execution_count": 74,
   "metadata": {},
   "outputs": [
    {
     "data": {
      "text/plain": [
       "[mean: 0.72046, std: 0.02523, params: {'n_neighbors': 1},\n",
       " mean: 0.71660, std: 0.01419, params: {'n_neighbors': 2},\n",
       " mean: 0.75270, std: 0.02536, params: {'n_neighbors': 3},\n",
       " mean: 0.74926, std: 0.01645, params: {'n_neighbors': 4},\n",
       " mean: 0.75911, std: 0.02711, params: {'n_neighbors': 5},\n",
       " mean: 0.75856, std: 0.02418, params: {'n_neighbors': 6},\n",
       " mean: 0.76841, std: 0.02546, params: {'n_neighbors': 7},\n",
       " mean: 0.76552, std: 0.02258, params: {'n_neighbors': 8},\n",
       " mean: 0.77165, std: 0.02717, params: {'n_neighbors': 9},\n",
       " mean: 0.76883, std: 0.02543, params: {'n_neighbors': 10},\n",
       " mean: 0.77124, std: 0.03005, params: {'n_neighbors': 11},\n",
       " mean: 0.77110, std: 0.02491, params: {'n_neighbors': 12},\n",
       " mean: 0.77090, std: 0.03152, params: {'n_neighbors': 13},\n",
       " mean: 0.77069, std: 0.02620, params: {'n_neighbors': 14},\n",
       " mean: 0.77276, std: 0.03189, params: {'n_neighbors': 15},\n",
       " mean: 0.77462, std: 0.02829, params: {'n_neighbors': 16},\n",
       " mean: 0.77641, std: 0.03215, params: {'n_neighbors': 17},\n",
       " mean: 0.77586, std: 0.02963, params: {'n_neighbors': 18},\n",
       " mean: 0.77462, std: 0.03158, params: {'n_neighbors': 19},\n",
       " mean: 0.77524, std: 0.02846, params: {'n_neighbors': 20},\n",
       " mean: 0.77351, std: 0.03299, params: {'n_neighbors': 21},\n",
       " mean: 0.77344, std: 0.02870, params: {'n_neighbors': 22},\n",
       " mean: 0.77324, std: 0.03295, params: {'n_neighbors': 23},\n",
       " mean: 0.77441, std: 0.02979, params: {'n_neighbors': 24},\n",
       " mean: 0.77400, std: 0.03185, params: {'n_neighbors': 25},\n",
       " mean: 0.77441, std: 0.03080, params: {'n_neighbors': 26},\n",
       " mean: 0.77207, std: 0.03173, params: {'n_neighbors': 27},\n",
       " mean: 0.77379, std: 0.02999, params: {'n_neighbors': 28},\n",
       " mean: 0.77255, std: 0.03250, params: {'n_neighbors': 29},\n",
       " mean: 0.77448, std: 0.03039, params: {'n_neighbors': 30}]"
      ]
     },
     "execution_count": 74,
     "metadata": {},
     "output_type": "execute_result"
    }
   ],
   "source": [
    "grid.grid_scores_"
   ]
  },
  {
   "cell_type": "code",
   "execution_count": 502,
   "metadata": {},
   "outputs": [
    {
     "data": {
      "text/plain": [
       "mean: 0.71660, std: 0.01419, params: {'n_neighbors': 2}"
      ]
     },
     "execution_count": 502,
     "metadata": {},
     "output_type": "execute_result"
    }
   ],
   "source": [
    "grid.grid_scores_[1]"
   ]
  },
  {
   "cell_type": "code",
   "execution_count": 75,
   "metadata": {},
   "outputs": [
    {
     "data": {
      "text/plain": [
       "{'n_neighbors': 17}"
      ]
     },
     "execution_count": 75,
     "metadata": {},
     "output_type": "execute_result"
    }
   ],
   "source": [
    "grid.best_params_"
   ]
  },
  {
   "cell_type": "code",
   "execution_count": 76,
   "metadata": {},
   "outputs": [
    {
     "name": "stdout",
     "output_type": "stream",
     "text": [
      "[0.7204575208433818, 0.7165989113208847, 0.7527044718528216, 0.7492592847791635, 0.7591125198098256, 0.7585612898780404, 0.7684145249087025, 0.7655205677668298, 0.7716530007579412, 0.7688279473575416, 0.7712395783091022, 0.7711017708261558, 0.7708950596017363, 0.7706883483773169, 0.7727554606215118, 0.7746158616412872, 0.7764073589195893, 0.775856128987804, 0.7746158616412872, 0.7752359953145456, 0.7735134017777165, 0.7734444980362434, 0.7732377868118239, 0.7744091504168676, 0.7739957279680286, 0.7744091504168676, 0.7720664232067801, 0.7737890167436092, 0.7725487493970923, 0.7744780541583408]\n"
     ]
    }
   ],
   "source": [
    "grid_mean_scores = [i.mean_validation_score for i in grid.grid_scores_]\n",
    "print(grid_mean_scores)"
   ]
  },
  {
   "cell_type": "code",
   "execution_count": 77,
   "metadata": {},
   "outputs": [
    {
     "name": "stdout",
     "output_type": "stream",
     "text": [
      "CV Validation Score\n",
      "[0.78871301 0.76997245 0.76085458 0.77325982 0.72984149 0.72777395\n",
      " 0.76636802 0.7877326  0.80909717 0.83115093]\n",
      "\n",
      "Mean Validation Score\n",
      "0.7744780541583408\n"
     ]
    }
   ],
   "source": [
    "print('CV Validation Score')\n",
    "print(grid.grid_scores_[29].cv_validation_scores)\n",
    "\n",
    "# Mean of the 10 scores\n",
    "print('')\n",
    "print('Mean Validation Score')\n",
    "print(grid.grid_scores_[29].mean_validation_score)"
   ]
  },
  {
   "cell_type": "code",
   "execution_count": 78,
   "metadata": {},
   "outputs": [
    {
     "data": {
      "text/plain": [
       "Text(0,0.5,'Cross-Validated Accuracy')"
      ]
     },
     "execution_count": 78,
     "metadata": {},
     "output_type": "execute_result"
    },
    {
     "data": {
      "image/png": "[encoded data removed]",
      "text/plain": [
       "<matplotlib.figure.Figure at 0x1f6fc4395f8>"
      ]
     },
     "metadata": {},
     "output_type": "display_data"
    }
   ],
   "source": [
    "plt.plot(k_range, grid_mean_scores)\n",
    "plt.xlabel('Value of K for KNN')\n",
    "plt.ylabel('Cross-Validated Accuracy')"
   ]
  }
 ],
 "metadata": {
  "kernelspec": {
   "display_name": "Python 3",
   "language": "python",
   "name": "python3"
  },
  "language_info": {
   "codemirror_mode": {
    "name": "ipython",
    "version": 3
   },
   "file_extension": ".py",
   "mimetype": "text/x-python",
   "name": "python",
   "nbconvert_exporter": "python",
   "pygments_lexer": "ipython3",
   "version": "3.6.4"
  }
 },
 "nbformat": 4,
 "nbformat_minor": 2
}
